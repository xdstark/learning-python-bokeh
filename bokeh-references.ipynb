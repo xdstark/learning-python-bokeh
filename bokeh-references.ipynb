{
 "metadata": {
  "language_info": {
   "codemirror_mode": {
    "name": "ipython",
    "version": 3
   },
   "file_extension": ".py",
   "mimetype": "text/x-python",
   "name": "python",
   "nbconvert_exporter": "python",
   "pygments_lexer": "ipython3",
   "version": "3.9.4"
  },
  "orig_nbformat": 4,
  "kernelspec": {
   "name": "python3",
   "display_name": "Python 3.9.4 64-bit ('bokeh': conda)"
  },
  "interpreter": {
   "hash": "44b21dba8afcf2550a02cfb62d66ff64c40db04de9c0205b2bf77e74ad29e69f"
  }
 },
 "nbformat": 4,
 "nbformat_minor": 2,
 "cells": [
  {
   "source": [
    "# Brief references for Bokeh"
   ],
   "cell_type": "markdown",
   "metadata": {}
  },
  {
   "cell_type": "code",
   "execution_count": null,
   "metadata": {},
   "outputs": [],
   "source": [
    "# Check dependencies\n",
    "from IPython import __version__ as ipython_version\n",
    "from pandas import __version__ as pandas_version\n",
    "from bokeh import __version__ as bokeh_version\n",
    "print(\"IPython - {}\".format(ipython_version))\n",
    "print(\"pandas - {}\".format(pandas_version))\n",
    "print(\"bokeh - {}\".format(bokeh_version))"
   ]
  },
  {
   "cell_type": "code",
   "execution_count": null,
   "metadata": {},
   "outputs": [],
   "source": [
    "# Standard imports and setup\n",
    "import numpy as np\n",
    "import pandas as pd\n",
    "from bokeh.io import output_notebook, show\n",
    "from bokeh.plotting import figure"
   ]
  },
  {
   "cell_type": "code",
   "execution_count": null,
   "metadata": {},
   "outputs": [],
   "source": [
    "# Activate the output\n",
    "output_notebook()"
   ]
  },
  {
   "cell_type": "code",
   "execution_count": null,
   "metadata": {},
   "outputs": [],
   "source": [
    "# Install sampledatas\n",
    "import bokeh.sampledata\n",
    "bokeh.sampledata.download()"
   ]
  },
  {
   "source": [
    "## Scatter + Line Plots"
   ],
   "cell_type": "markdown",
   "metadata": {}
  },
  {
   "cell_type": "code",
   "execution_count": 18,
   "metadata": {},
   "outputs": [
    {
     "output_type": "display_data",
     "data": {
      "text/html": "\n\n\n\n\n\n  <div class=\"bk-root\" id=\"4e024e08-49d8-4896-899e-483c375759dc\" data-root-id=\"1377\"></div>\n"
     },
     "metadata": {}
    },
    {
     "output_type": "display_data",
     "data": {
      "application/javascript": "(function(root) {\n  function embed_document(root) {\n    \n  var docs_json = {\"56d35877-cec9-4e29-8f69-5a91c57fa0a6\":{\"defs\":[],\"roots\":{\"references\":[{\"attributes\":{\"below\":[{\"id\":\"1388\"}],\"center\":[{\"id\":\"1391\"},{\"id\":\"1395\"}],\"height\":400,\"left\":[{\"id\":\"1392\"}],\"renderers\":[{\"id\":\"1413\"},{\"id\":\"1418\"}],\"title\":{\"id\":\"1378\"},\"toolbar\":{\"id\":\"1403\"},\"width\":400,\"x_range\":{\"id\":\"1380\"},\"x_scale\":{\"id\":\"1384\"},\"y_range\":{\"id\":\"1382\"},\"y_scale\":{\"id\":\"1386\"}},\"id\":\"1377\",\"subtype\":\"Figure\",\"type\":\"Plot\"},{\"attributes\":{},\"id\":\"1382\",\"type\":\"DataRange1d\"},{\"attributes\":{},\"id\":\"1380\",\"type\":\"DataRange1d\"},{\"attributes\":{},\"id\":\"1456\",\"type\":\"BasicTickFormatter\"},{\"attributes\":{\"fill_alpha\":{\"value\":0.5},\"fill_color\":{\"value\":\"cyan\"},\"size\":{\"value\":15},\"x\":{\"field\":\"x\"},\"y\":{\"field\":\"y\"}},\"id\":\"1416\",\"type\":\"Circle\"},{\"attributes\":{},\"id\":\"1454\",\"type\":\"AllLabels\"},{\"attributes\":{},\"id\":\"1463\",\"type\":\"Selection\"},{\"attributes\":{\"active_multi\":null,\"tools\":[{\"id\":\"1396\"},{\"id\":\"1397\"},{\"id\":\"1398\"},{\"id\":\"1399\"},{\"id\":\"1400\"},{\"id\":\"1401\"}]},\"id\":\"1403\",\"type\":\"Toolbar\"},{\"attributes\":{\"data\":{\"x\":[0,1,2,3,4,5,6,7,8,9,10,11,12,13,14,15,16,17],\"y\":{\"__ndarray__\":\"ZmZmZmbmNEAzMzMzMzM7QGZmZmZmZj9AzczMzMxMO0AAAAAAAAA+QGZmZmZmZjxAMzMzMzOzPUAzMzMzM7M6QJqZmZmZGTtAzczMzMzMOkCamZmZmRk7QM3MzMzMTDlAzczMzMxMOUBmZmZmZmY6QAAAAAAAgDtAZmZmZmZmO0DNzMzMzEw5QAAAAAAAADlA\",\"dtype\":\"float64\",\"order\":\"little\",\"shape\":[18]}},\"selected\":{\"id\":\"1461\"},\"selection_policy\":{\"id\":\"1460\"}},\"id\":\"1410\",\"type\":\"ColumnDataSource\"},{\"attributes\":{},\"id\":\"1453\",\"type\":\"BasicTickFormatter\"},{\"attributes\":{\"data_source\":{\"id\":\"1410\"},\"glyph\":{\"id\":\"1411\"},\"hover_glyph\":null,\"muted_glyph\":null,\"nonselection_glyph\":{\"id\":\"1412\"},\"view\":{\"id\":\"1414\"}},\"id\":\"1413\",\"type\":\"GlyphRenderer\"},{\"attributes\":{\"line_color\":\"orange\",\"line_width\":3,\"x\":{\"field\":\"x\"},\"y\":{\"field\":\"y\"}},\"id\":\"1411\",\"type\":\"Line\"},{\"attributes\":{\"line_alpha\":0.1,\"line_color\":\"orange\",\"line_width\":3,\"x\":{\"field\":\"x\"},\"y\":{\"field\":\"y\"}},\"id\":\"1412\",\"type\":\"Line\"},{\"attributes\":{\"bottom_units\":\"screen\",\"fill_alpha\":0.5,\"fill_color\":\"lightgrey\",\"left_units\":\"screen\",\"level\":\"overlay\",\"line_alpha\":1.0,\"line_color\":\"black\",\"line_dash\":[4,4],\"line_width\":2,\"right_units\":\"screen\",\"syncable\":false,\"top_units\":\"screen\"},\"id\":\"1402\",\"type\":\"BoxAnnotation\"},{\"attributes\":{},\"id\":\"1397\",\"type\":\"WheelZoomTool\"},{\"attributes\":{},\"id\":\"1462\",\"type\":\"UnionRenderers\"},{\"attributes\":{},\"id\":\"1457\",\"type\":\"AllLabels\"},{\"attributes\":{\"source\":{\"id\":\"1410\"}},\"id\":\"1414\",\"type\":\"CDSView\"},{\"attributes\":{\"data_source\":{\"id\":\"1415\"},\"glyph\":{\"id\":\"1416\"},\"hover_glyph\":null,\"muted_glyph\":null,\"nonselection_glyph\":{\"id\":\"1417\"},\"view\":{\"id\":\"1419\"}},\"id\":\"1418\",\"type\":\"GlyphRenderer\"},{\"attributes\":{\"formatter\":{\"id\":\"1453\"},\"major_label_policy\":{\"id\":\"1454\"},\"ticker\":{\"id\":\"1393\"}},\"id\":\"1392\",\"type\":\"LinearAxis\"},{\"attributes\":{},\"id\":\"1400\",\"type\":\"ResetTool\"},{\"attributes\":{},\"id\":\"1384\",\"type\":\"LinearScale\"},{\"attributes\":{\"fill_alpha\":{\"value\":0.1},\"fill_color\":{\"value\":\"cyan\"},\"line_alpha\":{\"value\":0.1},\"size\":{\"value\":15},\"x\":{\"field\":\"x\"},\"y\":{\"field\":\"y\"}},\"id\":\"1417\",\"type\":\"Circle\"},{\"attributes\":{\"source\":{\"id\":\"1415\"}},\"id\":\"1419\",\"type\":\"CDSView\"},{\"attributes\":{},\"id\":\"1461\",\"type\":\"Selection\"},{\"attributes\":{\"data\":{\"x\":[0,1,2,3,4,5,6,7,8,9,10,11,12,13,14,15,16,17],\"y\":{\"__ndarray__\":\"ZmZmZmbmNEAzMzMzMzM7QGZmZmZmZj9AzczMzMxMO0AAAAAAAAA+QGZmZmZmZjxAMzMzMzOzPUAzMzMzM7M6QJqZmZmZGTtAzczMzMzMOkCamZmZmRk7QM3MzMzMTDlAzczMzMxMOUBmZmZmZmY6QAAAAAAAgDtAZmZmZmZmO0DNzMzMzEw5QAAAAAAAADlA\",\"dtype\":\"float64\",\"order\":\"little\",\"shape\":[18]}},\"selected\":{\"id\":\"1463\"},\"selection_policy\":{\"id\":\"1462\"}},\"id\":\"1415\",\"type\":\"ColumnDataSource\"},{\"attributes\":{\"overlay\":{\"id\":\"1402\"}},\"id\":\"1398\",\"type\":\"BoxZoomTool\"},{\"attributes\":{},\"id\":\"1460\",\"type\":\"UnionRenderers\"},{\"attributes\":{},\"id\":\"1399\",\"type\":\"SaveTool\"},{\"attributes\":{},\"id\":\"1386\",\"type\":\"LinearScale\"},{\"attributes\":{},\"id\":\"1389\",\"type\":\"BasicTicker\"},{\"attributes\":{\"axis\":{\"id\":\"1392\"},\"dimension\":1,\"ticker\":null},\"id\":\"1395\",\"type\":\"Grid\"},{\"attributes\":{\"axis\":{\"id\":\"1388\"},\"ticker\":null},\"id\":\"1391\",\"type\":\"Grid\"},{\"attributes\":{},\"id\":\"1396\",\"type\":\"PanTool\"},{\"attributes\":{},\"id\":\"1401\",\"type\":\"HelpTool\"},{\"attributes\":{\"formatter\":{\"id\":\"1456\"},\"major_label_policy\":{\"id\":\"1457\"},\"ticker\":{\"id\":\"1389\"}},\"id\":\"1388\",\"type\":\"LinearAxis\"},{\"attributes\":{\"text\":\"LeBron James Points per Season\"},\"id\":\"1378\",\"type\":\"Title\"},{\"attributes\":{},\"id\":\"1393\",\"type\":\"BasicTicker\"}],\"root_ids\":[\"1377\"]},\"title\":\"Bokeh Application\",\"version\":\"2.3.2\"}};\n  var render_items = [{\"docid\":\"56d35877-cec9-4e29-8f69-5a91c57fa0a6\",\"root_ids\":[\"1377\"],\"roots\":{\"1377\":\"4e024e08-49d8-4896-899e-483c375759dc\"}}];\n  root.Bokeh.embed.embed_items_notebook(docs_json, render_items);\n\n  }\n  if (root.Bokeh !== undefined) {\n    embed_document(root);\n  } else {\n    var attempts = 0;\n    var timer = setInterval(function(root) {\n      if (root.Bokeh !== undefined) {\n        clearInterval(timer);\n        embed_document(root);\n      } else {\n        attempts++;\n        if (attempts > 100) {\n          clearInterval(timer);\n          console.log(\"Bokeh: ERROR: Unable to run BokehJS code because BokehJS library is missing\");\n        }\n      }\n    }, 10, root)\n  }\n})(window);",
      "application/vnd.bokehjs_exec.v0+json": ""
     },
     "metadata": {
      "application/vnd.bokehjs_exec.v0+json": {
       "id": "1377"
      }
     }
    }
   ],
   "source": [
    "# read lbj data from test_reg.json\n",
    "lbj = pd.read_json(\"test_reg.json\")\n",
    "\n",
    "# create a simple scatter plot\n",
    "p = figure(\n",
    "    plot_width=400, plot_height=400,\n",
    "    title=\"LeBron James Points per Season\"\n",
    ")\n",
    "\n",
    "p.line(\n",
    "    list(lbj.index), lbj.loc[:,'pts_per_g'],\n",
    "    line_color='orange', line_width=3\n",
    ")\n",
    "p.circle(\n",
    "    list(lbj.index), lbj.loc[:,'pts_per_g'],\n",
    "    size=15,\n",
    "    line_color='black',\n",
    "    fill_color='cyan', fill_alpha=0.5\n",
    ")\n",
    "\n",
    "show(p)"
   ]
  },
  {
   "source": [
    "## Colors\n",
    "\n",
    "### Accepted formats:\n",
    "\n",
    "  1. HTML/CSS Colors\n",
    "  2. RGB(A) hex value, e.g., \"#FF1234\"\n",
    "  3. 3-tuple (r, g, b): 0 - 255\n",
    "  4. 4-tuple (r, g, b, a): 0 - 255 / a: 0 - 1\n",
    "\n",
    "### Line properties\n",
    "  \n",
    "  `line_color`, `line_alpha`, `line_width`, `line_dash`\n",
    "\n",
    "### Fill properties\n",
    "  `fill_color`, `fill_alpha`\n",
    "\n",
    "### Text properties\n",
    "  `text_font`, `text_font_size`, `text_color`, `text_alpha`"
   ],
   "cell_type": "markdown",
   "metadata": {}
  },
  {
   "source": [
    "## Plot configurations\n",
    "\n",
    "TO-DO"
   ],
   "cell_type": "markdown",
   "metadata": {}
  },
  {
   "source": [
    "## Glyphs\n",
    "\n",
    "### List\n",
    "\n",
    "TO-DO\n",
    "\n",
    "### Selection and non-selection visuals\n",
    "\n",
    "\n"
   ],
   "cell_type": "markdown",
   "metadata": {}
  },
  {
   "cell_type": "code",
   "execution_count": 23,
   "metadata": {},
   "outputs": [
    {
     "output_type": "display_data",
     "data": {
      "text/html": "\n\n\n\n\n\n  <div class=\"bk-root\" id=\"5d3adf1c-2da3-4c03-8e21-8de8dbcb4d84\" data-root-id=\"1788\"></div>\n"
     },
     "metadata": {}
    },
    {
     "output_type": "display_data",
     "data": {
      "application/javascript": "(function(root) {\n  function embed_document(root) {\n    \n  var docs_json = {\"3a90bcbf-b3bb-4c0d-8c80-28aa2c9b7f36\":{\"defs\":[],\"roots\":{\"references\":[{\"attributes\":{\"below\":[{\"id\":\"1799\"}],\"center\":[{\"id\":\"1802\"},{\"id\":\"1806\"}],\"height\":400,\"left\":[{\"id\":\"1803\"}],\"renderers\":[{\"id\":\"1814\"}],\"title\":{\"id\":\"1789\"},\"toolbar\":{\"id\":\"1808\"},\"width\":400,\"x_range\":{\"id\":\"1791\"},\"x_scale\":{\"id\":\"1795\"},\"y_range\":{\"id\":\"1793\"},\"y_scale\":{\"id\":\"1797\"}},\"id\":\"1788\",\"subtype\":\"Figure\",\"type\":\"Plot\"},{\"attributes\":{},\"id\":\"1879\",\"type\":\"BasicTickFormatter\"},{\"attributes\":{\"callback\":null},\"id\":\"1807\",\"type\":\"TapTool\"},{\"attributes\":{},\"id\":\"1797\",\"type\":\"LinearScale\"},{\"attributes\":{\"data\":{\"x\":[0,1,2,3,4,5,6,7,8,9,10,11,12,13,14,15,16,17],\"y\":{\"__ndarray__\":\"ZmZmZmbmNEAzMzMzMzM7QGZmZmZmZj9AzczMzMxMO0AAAAAAAAA+QGZmZmZmZjxAMzMzMzOzPUAzMzMzM7M6QJqZmZmZGTtAzczMzMzMOkCamZmZmRk7QM3MzMzMTDlAzczMzMxMOUBmZmZmZmY6QAAAAAAAgDtAZmZmZmZmO0DNzMzMzEw5QAAAAAAAADlA\",\"dtype\":\"float64\",\"order\":\"little\",\"shape\":[18]}},\"selected\":{\"id\":\"1886\"},\"selection_policy\":{\"id\":\"1885\"}},\"id\":\"1810\",\"type\":\"ColumnDataSource\"},{\"attributes\":{},\"id\":\"1886\",\"type\":\"Selection\"},{\"attributes\":{\"axis\":{\"id\":\"1803\"},\"dimension\":1,\"ticker\":null},\"id\":\"1806\",\"type\":\"Grid\"},{\"attributes\":{},\"id\":\"1793\",\"type\":\"DataRange1d\"},{\"attributes\":{\"text\":\"Select a point\"},\"id\":\"1789\",\"type\":\"Title\"},{\"attributes\":{},\"id\":\"1882\",\"type\":\"BasicTickFormatter\"},{\"attributes\":{},\"id\":\"1885\",\"type\":\"UnionRenderers\"},{\"attributes\":{},\"id\":\"1883\",\"type\":\"AllLabels\"},{\"attributes\":{},\"id\":\"1795\",\"type\":\"LinearScale\"},{\"attributes\":{\"source\":{\"id\":\"1810\"}},\"id\":\"1815\",\"type\":\"CDSView\"},{\"attributes\":{\"data_source\":{\"id\":\"1810\"},\"glyph\":{\"id\":\"1811\"},\"hover_glyph\":null,\"muted_glyph\":null,\"nonselection_glyph\":{\"id\":\"1812\"},\"selection_glyph\":{\"id\":\"1813\"},\"view\":{\"id\":\"1815\"}},\"id\":\"1814\",\"type\":\"GlyphRenderer\"},{\"attributes\":{\"formatter\":{\"id\":\"1882\"},\"major_label_policy\":{\"id\":\"1883\"},\"ticker\":{\"id\":\"1800\"}},\"id\":\"1799\",\"type\":\"LinearAxis\"},{\"attributes\":{\"axis\":{\"id\":\"1799\"},\"ticker\":null},\"id\":\"1802\",\"type\":\"Grid\"},{\"attributes\":{\"formatter\":{\"id\":\"1879\"},\"major_label_policy\":{\"id\":\"1880\"},\"ticker\":{\"id\":\"1804\"}},\"id\":\"1803\",\"type\":\"LinearAxis\"},{\"attributes\":{},\"id\":\"1800\",\"type\":\"BasicTicker\"},{\"attributes\":{},\"id\":\"1791\",\"type\":\"DataRange1d\"},{\"attributes\":{\"fill_color\":{\"value\":\"#1f77b4\"},\"line_color\":{\"value\":\"#1f77b4\"},\"size\":{\"value\":50},\"x\":{\"field\":\"x\"},\"y\":{\"field\":\"y\"}},\"id\":\"1811\",\"type\":\"Circle\"},{\"attributes\":{\"fill_color\":{\"value\":\"firebrick\"},\"line_color\":{\"value\":\"firebrick\"},\"size\":{\"value\":50},\"x\":{\"field\":\"x\"},\"y\":{\"field\":\"y\"}},\"id\":\"1813\",\"type\":\"Circle\"},{\"attributes\":{},\"id\":\"1880\",\"type\":\"AllLabels\"},{\"attributes\":{\"fill_alpha\":{\"value\":0.2},\"fill_color\":{\"value\":\"grey\"},\"line_color\":{\"value\":\"firebrick\"},\"size\":{\"value\":50},\"x\":{\"field\":\"x\"},\"y\":{\"field\":\"y\"}},\"id\":\"1812\",\"type\":\"Circle\"},{\"attributes\":{\"active_multi\":null,\"tools\":[{\"id\":\"1807\"}]},\"id\":\"1808\",\"type\":\"Toolbar\"},{\"attributes\":{},\"id\":\"1804\",\"type\":\"BasicTicker\"}],\"root_ids\":[\"1788\"]},\"title\":\"Bokeh Application\",\"version\":\"2.3.2\"}};\n  var render_items = [{\"docid\":\"3a90bcbf-b3bb-4c0d-8c80-28aa2c9b7f36\",\"root_ids\":[\"1788\"],\"roots\":{\"1788\":\"5d3adf1c-2da3-4c03-8e21-8de8dbcb4d84\"}}];\n  root.Bokeh.embed.embed_items_notebook(docs_json, render_items);\n\n  }\n  if (root.Bokeh !== undefined) {\n    embed_document(root);\n  } else {\n    var attempts = 0;\n    var timer = setInterval(function(root) {\n      if (root.Bokeh !== undefined) {\n        clearInterval(timer);\n        embed_document(root);\n      } else {\n        attempts++;\n        if (attempts > 100) {\n          clearInterval(timer);\n          console.log(\"Bokeh: ERROR: Unable to run BokehJS code because BokehJS library is missing\");\n        }\n      }\n    }, 10, root)\n  }\n})(window);",
      "application/vnd.bokehjs_exec.v0+json": ""
     },
     "metadata": {
      "application/vnd.bokehjs_exec.v0+json": {
       "id": "1788"
      }
     }
    }
   ],
   "source": [
    "p = figure(\n",
    "    plot_width=400, plot_height=400,\n",
    "    tools='tap', title='Select a point'\n",
    ")\n",
    "\n",
    "x = list(lbj.index)\n",
    "y = lbj.loc[:, 'pts_per_g']\n",
    "\n",
    "p.circle(\n",
    "    x, y,\n",
    "    size=50,\n",
    "    selection_color='firebrick',\n",
    "    nonselection_fill_color='grey',\n",
    "    nonselection_fill_alpha=0.2,\n",
    "    nonselection_line_color='firebrick',\n",
    "    nonselection_line_alpha=1.0    \n",
    ")\n",
    "\n",
    "show(p)"
   ]
  },
  {
   "source": [
    "## Axes\n",
    "\n",
    "Axes objects have many configurable properties that afford control over most visual aspects of an axis. These can be grouped by function according to prefix:\n",
    "\n",
    "* **axis**  [line properties](https://bokeh.pydata.org/en/latest/docs/user_guide/styling.html#line-properties) e.g `axis_line_width`\n",
    "\n",
    "* **axis_label** [text properties](https://bokeh.pydata.org/en/latest/docs/user_guide/styling.html#text-properties)  e.g. `axis_label_text_color`, as well as ``axis_label_standoff``\n",
    "\n",
    "* **major_label** [text properties](https://bokeh.pydata.org/en/latest/docs/user_guide/styling.html#text-properties) e.g. `major_label_text_font_size`, as well as ``major_label_orientation``\n",
    "\n",
    "* **major_tick** [line_properties](https://bokeh.pydata.org/en/latest/docs/user_guide/styling.html#line-properties) e.g. `major_tick_line_dash`, as well as  ``major_tick_in`` and ``major_tick_out``\n",
    "\n",
    "* **minor_tick** [line properties](https://bokeh.pydata.org/en/latest/docs/user_guide/styling.html#line-properties) e.g. `minor_tick_line_width`, as well as ``minor_tick_in`` and ``minor_tick_out``\n",
    "\n",
    "As a simple first case, let's change the orientation of the major tick labels on both axes of a plot:"
   ],
   "cell_type": "markdown",
   "metadata": {}
  },
  {
   "cell_type": "code",
   "execution_count": null,
   "metadata": {},
   "outputs": [],
   "source": [
    "p = figure(\n",
    "    plot_width=400, plot_height=400,\n",
    "    \n",
    ")"
   ]
  }
 ]
}