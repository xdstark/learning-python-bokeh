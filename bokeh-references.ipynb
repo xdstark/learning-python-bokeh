{
 "metadata": {
  "language_info": {
   "codemirror_mode": {
    "name": "ipython",
    "version": 3
   },
   "file_extension": ".py",
   "mimetype": "text/x-python",
   "name": "python",
   "nbconvert_exporter": "python",
   "pygments_lexer": "ipython3",
   "version": "3.9.4"
  },
  "orig_nbformat": 4,
  "kernelspec": {
   "name": "python3",
   "display_name": "Python 3.9.4 64-bit ('bokeh': conda)"
  },
  "interpreter": {
   "hash": "44b21dba8afcf2550a02cfb62d66ff64c40db04de9c0205b2bf77e74ad29e69f"
  }
 },
 "nbformat": 4,
 "nbformat_minor": 2,
 "cells": [
  {
   "source": [
    "# Brief references for Bokeh"
   ],
   "cell_type": "markdown",
   "metadata": {}
  },
  {
   "cell_type": "code",
   "execution_count": null,
   "metadata": {},
   "outputs": [],
   "source": [
    "# Check dependencies\n",
    "from IPython import __version__ as ipython_version\n",
    "from pandas import __version__ as pandas_version\n",
    "from bokeh import __version__ as bokeh_version\n",
    "print(\"IPython - {}\".format(ipython_version))\n",
    "print(\"pandas - {}\".format(pandas_version))\n",
    "print(\"bokeh - {}\".format(bokeh_version))"
   ]
  },
  {
   "cell_type": "code",
   "execution_count": null,
   "metadata": {},
   "outputs": [],
   "source": [
    "# Standard imports and setup\n",
    "import numpy as np\n",
    "import pandas as pd\n",
    "from bokeh.io import output_notebook, show\n",
    "from bokeh.plotting import figure"
   ]
  },
  {
   "cell_type": "code",
   "execution_count": null,
   "metadata": {},
   "outputs": [],
   "source": [
    "# Activate the output\n",
    "output_notebook()"
   ]
  },
  {
   "cell_type": "code",
   "execution_count": null,
   "metadata": {},
   "outputs": [],
   "source": [
    "# Install sampledatas\n",
    "import bokeh.sampledata\n",
    "bokeh.sampledata.download()"
   ]
  },
  {
   "source": [
    "## Scatter plots"
   ],
   "cell_type": "markdown",
   "metadata": {}
  },
  {
   "cell_type": "code",
   "execution_count": null,
   "metadata": {},
   "outputs": [],
   "source": [
    "# read lbj data from test_reg.json\n",
    "lbj = pd.read_json(\"test_reg.json\")\n",
    "\n",
    "# create a simple scatter plot\n",
    "p = figure(\n",
    "    plot_width=400, plot_height=400,\n",
    "    title=\"LeBron James Points per Season\"\n",
    ")\n",
    "\n",
    "p.circle(\n",
    "    lbj.loc['season'], lbj.loc['pts_per_g'],\n",
    "    \n",
    ")"
   ]
  }
 ]
}