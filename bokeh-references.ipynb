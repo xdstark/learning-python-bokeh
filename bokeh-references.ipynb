{
 "metadata": {
  "language_info": {
   "codemirror_mode": {
    "name": "ipython",
    "version": 3
   },
   "file_extension": ".py",
   "mimetype": "text/x-python",
   "name": "python",
   "nbconvert_exporter": "python",
   "pygments_lexer": "ipython3",
   "version": "3.9.5"
  },
  "orig_nbformat": 4,
  "kernelspec": {
   "name": "python3",
   "display_name": "Python 3.9.5 64-bit ('webspi': conda)"
  },
  "interpreter": {
   "hash": "cb718c249e53e49b4db223321939455198fc30832159a9d480db9b9d095be2f2"
  }
 },
 "nbformat": 4,
 "nbformat_minor": 2,
 "cells": [
  {
   "source": [
    "# Brief references for Bokeh"
   ],
   "cell_type": "markdown",
   "metadata": {}
  },
  {
   "cell_type": "code",
   "execution_count": 1,
   "metadata": {},
   "outputs": [
    {
     "output_type": "stream",
     "name": "stdout",
     "text": [
      "IPython - 7.22.0\npandas - 1.2.4\nbokeh - 2.3.2\n"
     ]
    }
   ],
   "source": [
    "# Check dependencies\n",
    "from IPython import __version__ as ipython_version\n",
    "from pandas import __version__ as pandas_version\n",
    "from bokeh import __version__ as bokeh_version\n",
    "print(\"IPython - {}\".format(ipython_version))\n",
    "print(\"pandas - {}\".format(pandas_version))\n",
    "print(\"bokeh - {}\".format(bokeh_version))"
   ]
  },
  {
   "cell_type": "code",
   "execution_count": 2,
   "metadata": {},
   "outputs": [],
   "source": [
    "# Standard imports and setup\n",
    "import numpy as np\n",
    "import pandas as pd\n",
    "from bokeh.io import output_notebook, show\n",
    "from bokeh.plotting import figure"
   ]
  },
  {
   "cell_type": "code",
   "execution_count": null,
   "metadata": {},
   "outputs": [],
   "source": [
    "# Activate the output\n",
    "output_notebook()"
   ]
  },
  {
   "cell_type": "code",
   "execution_count": null,
   "metadata": {},
   "outputs": [],
   "source": [
    "# Install sampledatas\n",
    "import bokeh.sampledata\n",
    "bokeh.sampledata.download()"
   ]
  },
  {
   "source": [
    "## Scatter + Line Plots"
   ],
   "cell_type": "markdown",
   "metadata": {}
  },
  {
   "cell_type": "code",
   "execution_count": 18,
   "metadata": {},
   "outputs": [
    {
     "output_type": "display_data",
     "data": {
      "text/html": "\n\n\n\n\n\n  <div class=\"bk-root\" id=\"4e024e08-49d8-4896-899e-483c375759dc\" data-root-id=\"1377\"></div>\n"
     },
     "metadata": {}
    },
    {
     "output_type": "display_data",
     "data": {
      "application/javascript": "(function(root) {\n  function embed_document(root) {\n    \n  var docs_json = {\"56d35877-cec9-4e29-8f69-5a91c57fa0a6\":{\"defs\":[],\"roots\":{\"references\":[{\"attributes\":{\"below\":[{\"id\":\"1388\"}],\"center\":[{\"id\":\"1391\"},{\"id\":\"1395\"}],\"height\":400,\"left\":[{\"id\":\"1392\"}],\"renderers\":[{\"id\":\"1413\"},{\"id\":\"1418\"}],\"title\":{\"id\":\"1378\"},\"toolbar\":{\"id\":\"1403\"},\"width\":400,\"x_range\":{\"id\":\"1380\"},\"x_scale\":{\"id\":\"1384\"},\"y_range\":{\"id\":\"1382\"},\"y_scale\":{\"id\":\"1386\"}},\"id\":\"1377\",\"subtype\":\"Figure\",\"type\":\"Plot\"},{\"attributes\":{},\"id\":\"1382\",\"type\":\"DataRange1d\"},{\"attributes\":{},\"id\":\"1380\",\"type\":\"DataRange1d\"},{\"attributes\":{},\"id\":\"1456\",\"type\":\"BasicTickFormatter\"},{\"attributes\":{\"fill_alpha\":{\"value\":0.5},\"fill_color\":{\"value\":\"cyan\"},\"size\":{\"value\":15},\"x\":{\"field\":\"x\"},\"y\":{\"field\":\"y\"}},\"id\":\"1416\",\"type\":\"Circle\"},{\"attributes\":{},\"id\":\"1454\",\"type\":\"AllLabels\"},{\"attributes\":{},\"id\":\"1463\",\"type\":\"Selection\"},{\"attributes\":{\"active_multi\":null,\"tools\":[{\"id\":\"1396\"},{\"id\":\"1397\"},{\"id\":\"1398\"},{\"id\":\"1399\"},{\"id\":\"1400\"},{\"id\":\"1401\"}]},\"id\":\"1403\",\"type\":\"Toolbar\"},{\"attributes\":{\"data\":{\"x\":[0,1,2,3,4,5,6,7,8,9,10,11,12,13,14,15,16,17],\"y\":{\"__ndarray__\":\"ZmZmZmbmNEAzMzMzMzM7QGZmZmZmZj9AzczMzMxMO0AAAAAAAAA+QGZmZmZmZjxAMzMzMzOzPUAzMzMzM7M6QJqZmZmZGTtAzczMzMzMOkCamZmZmRk7QM3MzMzMTDlAzczMzMxMOUBmZmZmZmY6QAAAAAAAgDtAZmZmZmZmO0DNzMzMzEw5QAAAAAAAADlA\",\"dtype\":\"float64\",\"order\":\"little\",\"shape\":[18]}},\"selected\":{\"id\":\"1461\"},\"selection_policy\":{\"id\":\"1460\"}},\"id\":\"1410\",\"type\":\"ColumnDataSource\"},{\"attributes\":{},\"id\":\"1453\",\"type\":\"BasicTickFormatter\"},{\"attributes\":{\"data_source\":{\"id\":\"1410\"},\"glyph\":{\"id\":\"1411\"},\"hover_glyph\":null,\"muted_glyph\":null,\"nonselection_glyph\":{\"id\":\"1412\"},\"view\":{\"id\":\"1414\"}},\"id\":\"1413\",\"type\":\"GlyphRenderer\"},{\"attributes\":{\"line_color\":\"orange\",\"line_width\":3,\"x\":{\"field\":\"x\"},\"y\":{\"field\":\"y\"}},\"id\":\"1411\",\"type\":\"Line\"},{\"attributes\":{\"line_alpha\":0.1,\"line_color\":\"orange\",\"line_width\":3,\"x\":{\"field\":\"x\"},\"y\":{\"field\":\"y\"}},\"id\":\"1412\",\"type\":\"Line\"},{\"attributes\":{\"bottom_units\":\"screen\",\"fill_alpha\":0.5,\"fill_color\":\"lightgrey\",\"left_units\":\"screen\",\"level\":\"overlay\",\"line_alpha\":1.0,\"line_color\":\"black\",\"line_dash\":[4,4],\"line_width\":2,\"right_units\":\"screen\",\"syncable\":false,\"top_units\":\"screen\"},\"id\":\"1402\",\"type\":\"BoxAnnotation\"},{\"attributes\":{},\"id\":\"1397\",\"type\":\"WheelZoomTool\"},{\"attributes\":{},\"id\":\"1462\",\"type\":\"UnionRenderers\"},{\"attributes\":{},\"id\":\"1457\",\"type\":\"AllLabels\"},{\"attributes\":{\"source\":{\"id\":\"1410\"}},\"id\":\"1414\",\"type\":\"CDSView\"},{\"attributes\":{\"data_source\":{\"id\":\"1415\"},\"glyph\":{\"id\":\"1416\"},\"hover_glyph\":null,\"muted_glyph\":null,\"nonselection_glyph\":{\"id\":\"1417\"},\"view\":{\"id\":\"1419\"}},\"id\":\"1418\",\"type\":\"GlyphRenderer\"},{\"attributes\":{\"formatter\":{\"id\":\"1453\"},\"major_label_policy\":{\"id\":\"1454\"},\"ticker\":{\"id\":\"1393\"}},\"id\":\"1392\",\"type\":\"LinearAxis\"},{\"attributes\":{},\"id\":\"1400\",\"type\":\"ResetTool\"},{\"attributes\":{},\"id\":\"1384\",\"type\":\"LinearScale\"},{\"attributes\":{\"fill_alpha\":{\"value\":0.1},\"fill_color\":{\"value\":\"cyan\"},\"line_alpha\":{\"value\":0.1},\"size\":{\"value\":15},\"x\":{\"field\":\"x\"},\"y\":{\"field\":\"y\"}},\"id\":\"1417\",\"type\":\"Circle\"},{\"attributes\":{\"source\":{\"id\":\"1415\"}},\"id\":\"1419\",\"type\":\"CDSView\"},{\"attributes\":{},\"id\":\"1461\",\"type\":\"Selection\"},{\"attributes\":{\"data\":{\"x\":[0,1,2,3,4,5,6,7,8,9,10,11,12,13,14,15,16,17],\"y\":{\"__ndarray__\":\"ZmZmZmbmNEAzMzMzMzM7QGZmZmZmZj9AzczMzMxMO0AAAAAAAAA+QGZmZmZmZjxAMzMzMzOzPUAzMzMzM7M6QJqZmZmZGTtAzczMzMzMOkCamZmZmRk7QM3MzMzMTDlAzczMzMxMOUBmZmZmZmY6QAAAAAAAgDtAZmZmZmZmO0DNzMzMzEw5QAAAAAAAADlA\",\"dtype\":\"float64\",\"order\":\"little\",\"shape\":[18]}},\"selected\":{\"id\":\"1463\"},\"selection_policy\":{\"id\":\"1462\"}},\"id\":\"1415\",\"type\":\"ColumnDataSource\"},{\"attributes\":{\"overlay\":{\"id\":\"1402\"}},\"id\":\"1398\",\"type\":\"BoxZoomTool\"},{\"attributes\":{},\"id\":\"1460\",\"type\":\"UnionRenderers\"},{\"attributes\":{},\"id\":\"1399\",\"type\":\"SaveTool\"},{\"attributes\":{},\"id\":\"1386\",\"type\":\"LinearScale\"},{\"attributes\":{},\"id\":\"1389\",\"type\":\"BasicTicker\"},{\"attributes\":{\"axis\":{\"id\":\"1392\"},\"dimension\":1,\"ticker\":null},\"id\":\"1395\",\"type\":\"Grid\"},{\"attributes\":{\"axis\":{\"id\":\"1388\"},\"ticker\":null},\"id\":\"1391\",\"type\":\"Grid\"},{\"attributes\":{},\"id\":\"1396\",\"type\":\"PanTool\"},{\"attributes\":{},\"id\":\"1401\",\"type\":\"HelpTool\"},{\"attributes\":{\"formatter\":{\"id\":\"1456\"},\"major_label_policy\":{\"id\":\"1457\"},\"ticker\":{\"id\":\"1389\"}},\"id\":\"1388\",\"type\":\"LinearAxis\"},{\"attributes\":{\"text\":\"LeBron James Points per Season\"},\"id\":\"1378\",\"type\":\"Title\"},{\"attributes\":{},\"id\":\"1393\",\"type\":\"BasicTicker\"}],\"root_ids\":[\"1377\"]},\"title\":\"Bokeh Application\",\"version\":\"2.3.2\"}};\n  var render_items = [{\"docid\":\"56d35877-cec9-4e29-8f69-5a91c57fa0a6\",\"root_ids\":[\"1377\"],\"roots\":{\"1377\":\"4e024e08-49d8-4896-899e-483c375759dc\"}}];\n  root.Bokeh.embed.embed_items_notebook(docs_json, render_items);\n\n  }\n  if (root.Bokeh !== undefined) {\n    embed_document(root);\n  } else {\n    var attempts = 0;\n    var timer = setInterval(function(root) {\n      if (root.Bokeh !== undefined) {\n        clearInterval(timer);\n        embed_document(root);\n      } else {\n        attempts++;\n        if (attempts > 100) {\n          clearInterval(timer);\n          console.log(\"Bokeh: ERROR: Unable to run BokehJS code because BokehJS library is missing\");\n        }\n      }\n    }, 10, root)\n  }\n})(window);",
      "application/vnd.bokehjs_exec.v0+json": ""
     },
     "metadata": {
      "application/vnd.bokehjs_exec.v0+json": {
       "id": "1377"
      }
     }
    }
   ],
   "source": [
    "# read lbj data from test_reg.json\n",
    "lbj = pd.read_json(\"test_reg.json\")\n",
    "\n",
    "# create a simple scatter plot\n",
    "p = figure(\n",
    "    plot_width=400, plot_height=400,\n",
    "    title=\"LeBron James Points per Season\"\n",
    ")\n",
    "\n",
    "p.line(\n",
    "    list(lbj.index), lbj.loc[:,'pts_per_g'],\n",
    "    line_color='orange', line_width=3\n",
    ")\n",
    "p.circle(\n",
    "    list(lbj.index), lbj.loc[:,'pts_per_g'],\n",
    "    size=15,\n",
    "    line_color='black',\n",
    "    fill_color='cyan', fill_alpha=0.5\n",
    ")\n",
    "\n",
    "show(p)"
   ]
  },
  {
   "source": [
    "## Colors\n",
    "\n",
    "### Accepted formats:\n",
    "\n",
    "  1. HTML/CSS Colors\n",
    "  2. RGB(A) hex value, e.g., \"#FF1234\"\n",
    "  3. 3-tuple (r, g, b): 0 - 255\n",
    "  4. 4-tuple (r, g, b, a): 0 - 255 / a: 0 - 1\n",
    "\n",
    "### Line properties\n",
    "  \n",
    "  `line_color`, `line_alpha`, `line_width`, `line_dash`\n",
    "\n",
    "### Fill properties\n",
    "  `fill_color`, `fill_alpha`\n",
    "\n",
    "### Text properties\n",
    "  `text_font`, `text_font_size`, `text_color`, `text_alpha`"
   ],
   "cell_type": "markdown",
   "metadata": {}
  },
  {
   "source": [
    "## Plot configurations\n",
    "\n",
    "TO-DO"
   ],
   "cell_type": "markdown",
   "metadata": {}
  },
  {
   "source": [
    "## Glyphs\n",
    "\n",
    "### List\n",
    "\n",
    "TO-DO\n",
    "\n",
    "### Selection and non-selection visuals\n",
    "\n",
    "\n"
   ],
   "cell_type": "markdown",
   "metadata": {}
  },
  {
   "cell_type": "code",
   "execution_count": 23,
   "metadata": {},
   "outputs": [
    {
     "output_type": "display_data",
     "data": {
      "text/html": "\n\n\n\n\n\n  <div class=\"bk-root\" id=\"5d3adf1c-2da3-4c03-8e21-8de8dbcb4d84\" data-root-id=\"1788\"></div>\n"
     },
     "metadata": {}
    },
    {
     "output_type": "display_data",
     "data": {
      "application/javascript": "(function(root) {\n  function embed_document(root) {\n    \n  var docs_json = {\"3a90bcbf-b3bb-4c0d-8c80-28aa2c9b7f36\":{\"defs\":[],\"roots\":{\"references\":[{\"attributes\":{\"below\":[{\"id\":\"1799\"}],\"center\":[{\"id\":\"1802\"},{\"id\":\"1806\"}],\"height\":400,\"left\":[{\"id\":\"1803\"}],\"renderers\":[{\"id\":\"1814\"}],\"title\":{\"id\":\"1789\"},\"toolbar\":{\"id\":\"1808\"},\"width\":400,\"x_range\":{\"id\":\"1791\"},\"x_scale\":{\"id\":\"1795\"},\"y_range\":{\"id\":\"1793\"},\"y_scale\":{\"id\":\"1797\"}},\"id\":\"1788\",\"subtype\":\"Figure\",\"type\":\"Plot\"},{\"attributes\":{},\"id\":\"1879\",\"type\":\"BasicTickFormatter\"},{\"attributes\":{\"callback\":null},\"id\":\"1807\",\"type\":\"TapTool\"},{\"attributes\":{},\"id\":\"1797\",\"type\":\"LinearScale\"},{\"attributes\":{\"data\":{\"x\":[0,1,2,3,4,5,6,7,8,9,10,11,12,13,14,15,16,17],\"y\":{\"__ndarray__\":\"ZmZmZmbmNEAzMzMzMzM7QGZmZmZmZj9AzczMzMxMO0AAAAAAAAA+QGZmZmZmZjxAMzMzMzOzPUAzMzMzM7M6QJqZmZmZGTtAzczMzMzMOkCamZmZmRk7QM3MzMzMTDlAzczMzMxMOUBmZmZmZmY6QAAAAAAAgDtAZmZmZmZmO0DNzMzMzEw5QAAAAAAAADlA\",\"dtype\":\"float64\",\"order\":\"little\",\"shape\":[18]}},\"selected\":{\"id\":\"1886\"},\"selection_policy\":{\"id\":\"1885\"}},\"id\":\"1810\",\"type\":\"ColumnDataSource\"},{\"attributes\":{},\"id\":\"1886\",\"type\":\"Selection\"},{\"attributes\":{\"axis\":{\"id\":\"1803\"},\"dimension\":1,\"ticker\":null},\"id\":\"1806\",\"type\":\"Grid\"},{\"attributes\":{},\"id\":\"1793\",\"type\":\"DataRange1d\"},{\"attributes\":{\"text\":\"Select a point\"},\"id\":\"1789\",\"type\":\"Title\"},{\"attributes\":{},\"id\":\"1882\",\"type\":\"BasicTickFormatter\"},{\"attributes\":{},\"id\":\"1885\",\"type\":\"UnionRenderers\"},{\"attributes\":{},\"id\":\"1883\",\"type\":\"AllLabels\"},{\"attributes\":{},\"id\":\"1795\",\"type\":\"LinearScale\"},{\"attributes\":{\"source\":{\"id\":\"1810\"}},\"id\":\"1815\",\"type\":\"CDSView\"},{\"attributes\":{\"data_source\":{\"id\":\"1810\"},\"glyph\":{\"id\":\"1811\"},\"hover_glyph\":null,\"muted_glyph\":null,\"nonselection_glyph\":{\"id\":\"1812\"},\"selection_glyph\":{\"id\":\"1813\"},\"view\":{\"id\":\"1815\"}},\"id\":\"1814\",\"type\":\"GlyphRenderer\"},{\"attributes\":{\"formatter\":{\"id\":\"1882\"},\"major_label_policy\":{\"id\":\"1883\"},\"ticker\":{\"id\":\"1800\"}},\"id\":\"1799\",\"type\":\"LinearAxis\"},{\"attributes\":{\"axis\":{\"id\":\"1799\"},\"ticker\":null},\"id\":\"1802\",\"type\":\"Grid\"},{\"attributes\":{\"formatter\":{\"id\":\"1879\"},\"major_label_policy\":{\"id\":\"1880\"},\"ticker\":{\"id\":\"1804\"}},\"id\":\"1803\",\"type\":\"LinearAxis\"},{\"attributes\":{},\"id\":\"1800\",\"type\":\"BasicTicker\"},{\"attributes\":{},\"id\":\"1791\",\"type\":\"DataRange1d\"},{\"attributes\":{\"fill_color\":{\"value\":\"#1f77b4\"},\"line_color\":{\"value\":\"#1f77b4\"},\"size\":{\"value\":50},\"x\":{\"field\":\"x\"},\"y\":{\"field\":\"y\"}},\"id\":\"1811\",\"type\":\"Circle\"},{\"attributes\":{\"fill_color\":{\"value\":\"firebrick\"},\"line_color\":{\"value\":\"firebrick\"},\"size\":{\"value\":50},\"x\":{\"field\":\"x\"},\"y\":{\"field\":\"y\"}},\"id\":\"1813\",\"type\":\"Circle\"},{\"attributes\":{},\"id\":\"1880\",\"type\":\"AllLabels\"},{\"attributes\":{\"fill_alpha\":{\"value\":0.2},\"fill_color\":{\"value\":\"grey\"},\"line_color\":{\"value\":\"firebrick\"},\"size\":{\"value\":50},\"x\":{\"field\":\"x\"},\"y\":{\"field\":\"y\"}},\"id\":\"1812\",\"type\":\"Circle\"},{\"attributes\":{\"active_multi\":null,\"tools\":[{\"id\":\"1807\"}]},\"id\":\"1808\",\"type\":\"Toolbar\"},{\"attributes\":{},\"id\":\"1804\",\"type\":\"BasicTicker\"}],\"root_ids\":[\"1788\"]},\"title\":\"Bokeh Application\",\"version\":\"2.3.2\"}};\n  var render_items = [{\"docid\":\"3a90bcbf-b3bb-4c0d-8c80-28aa2c9b7f36\",\"root_ids\":[\"1788\"],\"roots\":{\"1788\":\"5d3adf1c-2da3-4c03-8e21-8de8dbcb4d84\"}}];\n  root.Bokeh.embed.embed_items_notebook(docs_json, render_items);\n\n  }\n  if (root.Bokeh !== undefined) {\n    embed_document(root);\n  } else {\n    var attempts = 0;\n    var timer = setInterval(function(root) {\n      if (root.Bokeh !== undefined) {\n        clearInterval(timer);\n        embed_document(root);\n      } else {\n        attempts++;\n        if (attempts > 100) {\n          clearInterval(timer);\n          console.log(\"Bokeh: ERROR: Unable to run BokehJS code because BokehJS library is missing\");\n        }\n      }\n    }, 10, root)\n  }\n})(window);",
      "application/vnd.bokehjs_exec.v0+json": ""
     },
     "metadata": {
      "application/vnd.bokehjs_exec.v0+json": {
       "id": "1788"
      }
     }
    }
   ],
   "source": [
    "p = figure(\n",
    "    plot_width=400, plot_height=400,\n",
    "    tools='tap', title='Select a point'\n",
    ")\n",
    "\n",
    "x = list(lbj.index)\n",
    "y = lbj.loc[:, 'pts_per_g']\n",
    "\n",
    "p.circle(\n",
    "    x, y,\n",
    "    size=50,\n",
    "    selection_color='firebrick',\n",
    "    nonselection_fill_color='grey',\n",
    "    nonselection_fill_alpha=0.2,\n",
    "    nonselection_line_color='firebrick',\n",
    "    nonselection_line_alpha=1.0    \n",
    ")\n",
    "\n",
    "show(p)"
   ]
  },
  {
   "source": [
    "## Axes\n",
    "\n",
    "Axes objects have many configurable properties that afford control over most visual aspects of an axis. These can be grouped by function according to prefix:\n",
    "\n",
    "* **axis**  [line properties](https://bokeh.pydata.org/en/latest/docs/user_guide/styling.html#line-properties) e.g `axis_line_width`\n",
    "\n",
    "* **axis_label** [text properties](https://bokeh.pydata.org/en/latest/docs/user_guide/styling.html#text-properties)  e.g. `axis_label_text_color`, as well as ``axis_label_standoff``\n",
    "\n",
    "* **major_label** [text properties](https://bokeh.pydata.org/en/latest/docs/user_guide/styling.html#text-properties) e.g. `major_label_text_font_size`, as well as ``major_label_orientation``\n",
    "\n",
    "* **major_tick** [line_properties](https://bokeh.pydata.org/en/latest/docs/user_guide/styling.html#line-properties) e.g. `major_tick_line_dash`, as well as  ``major_tick_in`` and ``major_tick_out``\n",
    "\n",
    "* **minor_tick** [line properties](https://bokeh.pydata.org/en/latest/docs/user_guide/styling.html#line-properties) e.g. `minor_tick_line_width`, as well as ``minor_tick_in`` and ``minor_tick_out``\n",
    "\n",
    "As a simple first case, let's change the orientation of the major tick labels on both axes of a plot:"
   ],
   "cell_type": "markdown",
   "metadata": {}
  },
  {
   "cell_type": "code",
   "execution_count": 24,
   "metadata": {},
   "outputs": [
    {
     "output_type": "display_data",
     "data": {
      "text/html": "\n\n\n\n\n\n  <div class=\"bk-root\" id=\"2a8c5826-e43b-45b6-84d8-ef65d7d9a53f\" data-root-id=\"1986\"></div>\n"
     },
     "metadata": {}
    },
    {
     "output_type": "display_data",
     "data": {
      "application/javascript": "(function(root) {\n  function embed_document(root) {\n    \n  var docs_json = {\"8232d9b1-fa0f-42b2-a6f4-1d05de0e6944\":{\"defs\":[],\"roots\":{\"references\":[{\"attributes\":{\"below\":[{\"id\":\"1995\"}],\"center\":[{\"id\":\"1998\"},{\"id\":\"2002\"}],\"height\":400,\"left\":[{\"id\":\"1999\"}],\"renderers\":[{\"id\":\"2020\"}],\"title\":{\"id\":\"2094\"},\"toolbar\":{\"id\":\"2010\"},\"width\":400,\"x_range\":{\"id\":\"1987\"},\"x_scale\":{\"id\":\"1991\"},\"y_range\":{\"id\":\"1989\"},\"y_scale\":{\"id\":\"1993\"}},\"id\":\"1986\",\"subtype\":\"Figure\",\"type\":\"Plot\"},{\"attributes\":{\"data\":{\"x\":{\"__ndarray__\":\"mpmZmZmZ6T9mZmZmZmb2P5qZmZmZmfk/zczMzMzM9D8AAAAAAAD4P5qZmZmZmfk/MzMzMzMz+z8zMzMzMzPzP83MzMzMzOw/ZmZmZmZm9j8AAAAAAAD4PzMzMzMzM/s/mpmZmZmZ8T8zMzMzMzP7P83MzMzMzPw/AAAAAAAAAECamZmZmZkBQGZmZmZmZgJA\",\"dtype\":\"float64\",\"order\":\"little\",\"shape\":[18]},\"y\":{\"__ndarray__\":\"j8L1KFyP0j8QWDm0yHbWP3E9CtejcNU/0SLb+X5q1D8pXI/C9SjUP2q8dJMYBNY/HVpkO99P1T8fhetRuB7VP166SQwCK9c/lkOLbOf72T+oxks3iUHYPw4tsp3vp9Y/LbKd76fG0z8IrBxaZDvXP7ByaJHtfNc/GQRWDi2y1T8Sg8DKoUXWP1yPwvUoXNc/\",\"dtype\":\"float64\",\"order\":\"little\",\"shape\":[18]}},\"selected\":{\"id\":\"2103\"},\"selection_policy\":{\"id\":\"2102\"}},\"id\":\"2017\",\"type\":\"ColumnDataSource\"},{\"attributes\":{},\"id\":\"2008\",\"type\":\"HelpTool\"},{\"attributes\":{\"fill_color\":{\"value\":\"black\"},\"marker\":{\"value\":\"asterisk\"},\"size\":{\"value\":12},\"x\":{\"field\":\"x\"},\"y\":{\"field\":\"y\"}},\"id\":\"2018\",\"type\":\"Scatter\"},{\"attributes\":{\"axis_label\":\"FG3_PERCENT\",\"axis_line_color\":\"orange\",\"axis_line_width\":6,\"formatter\":{\"id\":\"2095\"},\"major_label_orientation\":\"vertical\",\"major_label_policy\":{\"id\":\"2096\"},\"minor_tick_in\":-3,\"minor_tick_out\":6,\"ticker\":{\"id\":\"2000\"}},\"id\":\"1999\",\"type\":\"LinearAxis\"},{\"attributes\":{\"active_multi\":null,\"tools\":[{\"id\":\"2003\"},{\"id\":\"2004\"},{\"id\":\"2005\"},{\"id\":\"2006\"},{\"id\":\"2007\"},{\"id\":\"2008\"}]},\"id\":\"2010\",\"type\":\"Toolbar\"},{\"attributes\":{},\"id\":\"2095\",\"type\":\"BasicTickFormatter\"},{\"attributes\":{},\"id\":\"2102\",\"type\":\"UnionRenderers\"},{\"attributes\":{\"fill_alpha\":{\"value\":0.1},\"fill_color\":{\"value\":\"black\"},\"line_alpha\":{\"value\":0.1},\"marker\":{\"value\":\"asterisk\"},\"size\":{\"value\":12},\"x\":{\"field\":\"x\"},\"y\":{\"field\":\"y\"}},\"id\":\"2019\",\"type\":\"Scatter\"},{\"attributes\":{},\"id\":\"2099\",\"type\":\"AllLabels\"},{\"attributes\":{\"axis\":{\"id\":\"1995\"},\"ticker\":null},\"id\":\"1998\",\"type\":\"Grid\"},{\"attributes\":{},\"id\":\"1993\",\"type\":\"LinearScale\"},{\"attributes\":{},\"id\":\"2096\",\"type\":\"AllLabels\"},{\"attributes\":{},\"id\":\"1991\",\"type\":\"LinearScale\"},{\"attributes\":{},\"id\":\"1987\",\"type\":\"DataRange1d\"},{\"attributes\":{},\"id\":\"2098\",\"type\":\"BasicTickFormatter\"},{\"attributes\":{},\"id\":\"2103\",\"type\":\"Selection\"},{\"attributes\":{},\"id\":\"1989\",\"type\":\"DataRange1d\"},{\"attributes\":{\"overlay\":{\"id\":\"2009\"}},\"id\":\"2005\",\"type\":\"BoxZoomTool\"},{\"attributes\":{},\"id\":\"1996\",\"type\":\"BasicTicker\"},{\"attributes\":{},\"id\":\"2007\",\"type\":\"ResetTool\"},{\"attributes\":{\"bottom_units\":\"screen\",\"fill_alpha\":0.5,\"fill_color\":\"lightgrey\",\"left_units\":\"screen\",\"level\":\"overlay\",\"line_alpha\":1.0,\"line_color\":\"black\",\"line_dash\":[4,4],\"line_width\":2,\"right_units\":\"screen\",\"syncable\":false,\"top_units\":\"screen\"},\"id\":\"2009\",\"type\":\"BoxAnnotation\"},{\"attributes\":{},\"id\":\"2003\",\"type\":\"PanTool\"},{\"attributes\":{},\"id\":\"2006\",\"type\":\"SaveTool\"},{\"attributes\":{\"axis\":{\"id\":\"1999\"},\"dimension\":1,\"ticker\":null},\"id\":\"2002\",\"type\":\"Grid\"},{\"attributes\":{\"data_source\":{\"id\":\"2017\"},\"glyph\":{\"id\":\"2018\"},\"hover_glyph\":null,\"muted_glyph\":null,\"nonselection_glyph\":{\"id\":\"2019\"},\"view\":{\"id\":\"2021\"}},\"id\":\"2020\",\"type\":\"GlyphRenderer\"},{\"attributes\":{\"source\":{\"id\":\"2017\"}},\"id\":\"2021\",\"type\":\"CDSView\"},{\"attributes\":{},\"id\":\"2094\",\"type\":\"Title\"},{\"attributes\":{},\"id\":\"2000\",\"type\":\"BasicTicker\"},{\"attributes\":{\"axis_label\":\"FG3_PER_GAME\",\"axis_line_color\":\"red\",\"axis_line_width\":4,\"formatter\":{\"id\":\"2098\"},\"major_label_policy\":{\"id\":\"2099\"},\"minor_tick_in\":-3,\"minor_tick_out\":6,\"ticker\":{\"id\":\"1996\"}},\"id\":\"1995\",\"type\":\"LinearAxis\"},{\"attributes\":{},\"id\":\"2004\",\"type\":\"WheelZoomTool\"}],\"root_ids\":[\"1986\"]},\"title\":\"Bokeh Application\",\"version\":\"2.3.2\"}};\n  var render_items = [{\"docid\":\"8232d9b1-fa0f-42b2-a6f4-1d05de0e6944\",\"root_ids\":[\"1986\"],\"roots\":{\"1986\":\"2a8c5826-e43b-45b6-84d8-ef65d7d9a53f\"}}];\n  root.Bokeh.embed.embed_items_notebook(docs_json, render_items);\n\n  }\n  if (root.Bokeh !== undefined) {\n    embed_document(root);\n  } else {\n    var attempts = 0;\n    var timer = setInterval(function(root) {\n      if (root.Bokeh !== undefined) {\n        clearInterval(timer);\n        embed_document(root);\n      } else {\n        attempts++;\n        if (attempts > 100) {\n          clearInterval(timer);\n          console.log(\"Bokeh: ERROR: Unable to run BokehJS code because BokehJS library is missing\");\n        }\n      }\n    }, 10, root)\n  }\n})(window);",
      "application/vnd.bokehjs_exec.v0+json": ""
     },
     "metadata": {
      "application/vnd.bokehjs_exec.v0+json": {
       "id": "1986"
      }
     }
    }
   ],
   "source": [
    "x = lbj.loc[:, 'fg3_per_g']\n",
    "y = lbj.loc[:, 'fg3_pct']\n",
    "\n",
    "p = figure(\n",
    "    plot_width=400, plot_height=400\n",
    ")\n",
    "\n",
    "p.asterisk(\n",
    "    x, y, size=12, color='black'\n",
    ")\n",
    "\n",
    "p.xaxis.axis_label = 'FG3_PER_GAME'\n",
    "p.yaxis.axis_label = 'FG3_PERCENT'\n",
    "\n",
    "p.xaxis.axis_line_width = 4\n",
    "p.xaxis.axis_line_color = 'red'\n",
    "\n",
    "p.yaxis.axis_line_width = 6\n",
    "p.yaxis.axis_line_color = 'orange'\n",
    "p.yaxis.major_label_orientation = 'vertical'\n",
    "\n",
    "p.axis.minor_tick_in = -3\n",
    "p.axis.minor_tick_out = 6\n",
    "\n",
    "show(p)"
   ]
  },
  {
   "source": [
    "### Configure tick labels"
   ],
   "cell_type": "markdown",
   "metadata": {}
  },
  {
   "cell_type": "code",
   "execution_count": 31,
   "metadata": {},
   "outputs": [
    {
     "output_type": "display_data",
     "data": {
      "text/html": "\n\n\n\n\n\n  <div class=\"bk-root\" id=\"cb91db5a-0947-4923-8d39-aa6095f314ec\" data-root-id=\"2412\"></div>\n"
     },
     "metadata": {}
    },
    {
     "output_type": "display_data",
     "data": {
      "application/javascript": "(function(root) {\n  function embed_document(root) {\n    \n  var docs_json = {\"9b199cb5-b306-4122-949c-d96ddef87b63\":{\"defs\":[],\"roots\":{\"references\":[{\"attributes\":{\"below\":[{\"id\":\"2423\"}],\"center\":[{\"id\":\"2426\"},{\"id\":\"2430\"}],\"height\":400,\"left\":[{\"id\":\"2427\"}],\"renderers\":[{\"id\":\"2448\"}],\"title\":{\"id\":\"2413\"},\"toolbar\":{\"id\":\"2438\"},\"width\":400,\"x_range\":{\"id\":\"2415\"},\"x_scale\":{\"id\":\"2419\"},\"y_range\":{\"id\":\"2417\"},\"y_scale\":{\"id\":\"2421\"}},\"id\":\"2412\",\"subtype\":\"Figure\",\"type\":\"Plot\"},{\"attributes\":{\"base\":24,\"mantissas\":[1,2,4,6,8,12],\"max_interval\":43200000.0,\"min_interval\":3600000.0,\"num_minor_ticks\":0},\"id\":\"2566\",\"type\":\"AdaptiveTicker\"},{\"attributes\":{\"days\":[1,4,7,10,13,16,19,22,25,28]},\"id\":\"2568\",\"type\":\"DaysTicker\"},{\"attributes\":{},\"id\":\"2432\",\"type\":\"WheelZoomTool\"},{\"attributes\":{\"months\":[0,6]},\"id\":\"2574\",\"type\":\"MonthsTicker\"},{\"attributes\":{},\"id\":\"2436\",\"type\":\"HelpTool\"},{\"attributes\":{},\"id\":\"2415\",\"type\":\"DataRange1d\"},{\"attributes\":{\"days\":[1,15]},\"id\":\"2570\",\"type\":\"DaysTicker\"},{\"attributes\":{\"data_source\":{\"id\":\"2445\"},\"glyph\":{\"id\":\"2446\"},\"hover_glyph\":null,\"muted_glyph\":null,\"nonselection_glyph\":{\"id\":\"2447\"},\"view\":{\"id\":\"2449\"}},\"id\":\"2448\",\"type\":\"GlyphRenderer\"},{\"attributes\":{\"line_color\":\"#1f77b4\",\"x\":{\"field\":\"x\"},\"y\":{\"field\":\"y\"}},\"id\":\"2446\",\"type\":\"Line\"},{\"attributes\":{},\"id\":\"2575\",\"type\":\"YearsTicker\"},{\"attributes\":{\"formatter\":{\"id\":\"2451\"},\"major_label_policy\":{\"id\":\"2558\"},\"ticker\":{\"id\":\"2428\"}},\"id\":\"2427\",\"type\":\"LinearAxis\"},{\"attributes\":{\"months\":[0,1,2,3,4,5,6,7,8,9,10,11]},\"id\":\"2571\",\"type\":\"MonthsTicker\"},{\"attributes\":{\"days\":[\"%m/%d/%y\"]},\"id\":\"2450\",\"type\":\"DatetimeTickFormatter\"},{\"attributes\":{},\"id\":\"2435\",\"type\":\"ResetTool\"},{\"attributes\":{\"axis\":{\"id\":\"2423\"},\"ticker\":null},\"id\":\"2426\",\"type\":\"Grid\"},{\"attributes\":{\"source\":{\"id\":\"2445\"}},\"id\":\"2449\",\"type\":\"CDSView\"},{\"attributes\":{\"format\":\"0.00\"},\"id\":\"2451\",\"type\":\"NumeralTickFormatter\"},{\"attributes\":{\"text\":\"Glucose Range\"},\"id\":\"2413\",\"type\":\"Title\"},{\"attributes\":{},\"id\":\"2428\",\"type\":\"BasicTicker\"},{\"attributes\":{\"formatter\":{\"id\":\"2450\"},\"major_label_orientation\":1.0471975511965976,\"major_label_policy\":{\"id\":\"2561\"},\"ticker\":{\"id\":\"2424\"}},\"id\":\"2423\",\"type\":\"DatetimeAxis\"},{\"attributes\":{\"data\":{\"x\":{\"__ndarray__\":\"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\",\"dtype\":\"float64\",\"order\":\"little\",\"shape\":[2213]},\"y\":[94,95,96,97,98,101,105,107,108,110,112,113,112,112,112,112,113,114,115,117,119,121,122,122,125,128,129,127,128,131,134,137,140,142,144,146,149,153,158,162,161,159,155,150,145,143,138,132,127,122,119,116,114,112,112,114,120,125,126,125,121,118,118,120,118,115,113,113,112,111,109,109,108,107,107,106,105,105,103,101,101,103,115,117,120,123,124,128,136,146,161,177,193,212,232,249,262,270,283,296,306,316,327,336,347,360,368,371,363,348,344,336,326,317,312,304,296,286,275,264,252,239,229,218,207,198,188,175,164,156,154,146,135,123,112,101,93,86,79,74,70,72,77,86,94,102,110,118,124,127,128,129,132,133,133,129,121,114,108,103,99,96,95,94,90,90,94,100,106,112,118,124,129,131,129,121,110,99,92,86,80,77,78,85,94,101,102,100,96,93,89,85,83,82,82,83,84,85,84,84,86,89,93,96,96,94,94,98,104,109,113,116,118,119,118,114,109,102,97,93,90,88,86,86,86,86,85,84,83,84,91,100,110,118,127,137,148,157,161,159,155,149,142,136,134,135,134,136,138,140,140,139,116,116,113,112,114,117,119,120,120,119,118,118,119,121,123,126,128,132,135,137,138,135,132,130,129,129,131,133,135,137,139,142,145,147,152,157,163,168,174,180,186,192,197,181,183,185,180,181,179,178,178,179,179,177,174,171,169,168,166,167,167,165,161,159,159,158,158,158,157,156,154,151,148,145,145,147,148,149,148,147,146,145,144,143,141,137,135,134,134,134,133,132,132,132,131,128,125,123,121,122,123,123,125,126,127,128,127,127,128,129,129,129,129,128,127,124,121,117,112,106,99,90,82,80,85,93,104,115,124,133,142,152,164,175,183,190,198,206,210,207,203,199,196,195,196,195,193,193,191,189,186,183,179,176,174,171,167,161,158,156,154,153,149,141,132,124,118,113,111,116,126,135,142,144,143,141,137,131,125,117,108,103,104,107,111,112,111,109,107,105,105,107,108,108,104,101,100,102,105,104,101,98,94,91,88,82,73,67,62,60,59,58,61,68,74,75,72,70,69,70,72,74,74,72,70,68,67,67,68,70,71,73,74,74,74,75,75,74,72,70,68,199,198,196,193,190,187,182,174,164,154,144,136,132,131,132,134,138,142,145,148,150,149,145,142,141,142,142,141,141,131,131,129,127,126,128,131,135,138,140,141,143,145,143,138,135,136,133,131,135,141,146,150,148,151,156,161,165,169,173,176,179,178,176,173,167,159,153,150,150,151,153,155,156,155,155,153,152,150,150,150,149,148,148,147,146,145,142,136,130,125,122,118,114,111,91,95,105,115,124,129,132,133,133,132,131,130,126,124,125,125,126,126,126,126,125,125,125,125,126,129,133,134,135,138,140,141,143,146,151,154,158,162,160,161,161,159,159,160,161,161,161,161,161,161,161,161,160,155,153,150,147,143,139,137,139,148,161,175,189,199,207,209,209,210,210,211,213,216,220,223,224,224,222,215,206,200,193,189,186,182,177,171,164,160,158,155,150,145,146,149,152,155,158,160,162,161,160,159,160,160,159,158,159,157,152,146,141,142,146,146,140,129,120,114,110,107,105,101,98,95,92,92,92,93,92,91,91,90,87,82,78,74,71,67,65,65,68,74,81,88,94,98,98,95,89,82,77,73,70,69,70,70,72,72,72,71,71,71,72,73,75,74,73,72,71,71,74,78,82,86,89,93,95,93,90,91,93,94,95,96,96,94,92,89,87,87,90,96,116,127,135,143,149,153,155,156,156,157,160,164,166,166,167,169,172,174,175,177,178,181,182,183,184,181,207,201,189,182,181,185,189,190,187,181,174,166,160,156,155,155,156,157,158,159,159,159,159,158,154,146,141,136,135,139,143,151,151,149,144,140,136,130,125,123,122,120,116,112,109,106,103,102,100,98,97,95,95,97,98,97,95,93,88,83,81,81,83,84,85,84,84,83,83,83,82,82,82,83,82,83,83,83,83,84,85,86,87,89,91,91,92,92,92,91,91,91,92,94,94,94,96,97,98,99,99,99,97,95,94,93,94,95,97,101,105,108,111,113,115,117,118,120,122,123,124,126,128,129,130,131,132,134,134,133,133,134,134,135,135,135,134,129,122,116,116,121,127,131,132,139,141,142,142,140,136,131,124,117,113,115,127,148,171,191,208,229,240,243,248,251,258,274,286,297,300,305,305,316,336,355,366,370,371,370,368,364,360,355,349,342,333,325,317,308,298,292,285,282,291,309,328,336,329,305,261,213,172,141,119,102,89,84,88,100,112,121,125,123,116,112,110,107,106,108,111,114,115,115,115,114,113,111,107,104,102,98,94,89,84,81,79,76,72,68,65,62,59,57,58,64,74,86,98,107,112,114,116,117,118,118,117,118,118,119,119,119,119,121,124,129,132,134,135,137,141,145,149,152,155,157,160,162,165,166,168,168,168,168,186,186,186,185,182,179,172,161,147,133,124,120,117,115,114,114,113,112,112,114,117,122,129,137,145,154,165,172,176,181,186,185,196,205,212,216,215,212,212,213,213,209,207,208,212,215,224,231,237,244,249,259,253,231,223,219,218,216,214,212,208,204,199,194,188,182,175,168,161,153,144,134,130,127,121,115,109,104,98,92,86,81,76,74,71,70,68,67,66,66,66,67,68,70,72,74,75,74,70,67,67,69,71,71,71,70,69,68,68,67,67,68,68,68,68,64,64,64,64,64,64,65,69,73,76,78,79,78,77,77,77,77,77,78,81,83,82,83,84,84,84,83,82,80,79,80,84,88,88,88,86,84,82,81,81,81,85,89,89,90,92,101,113,119,123,124,127,130,131,133,140,147,151,153,154,153,151,154,158,160,159,157,156,155,158,163,166,167,166,164,167,174,181,189,194,197,197,197,197,195,190,178,165,156,152,146,141,137,132,127,121,117,112,107,103,101,97,94,93,91,90,87,84,81,79,81,90,102,111,111,107,105,103,101,95,88,82,76,70,64,58,54,54,58,63,72,74,75,76,191,195,202,210,201,187,180,174,167,159,153,147,142,142,146,145,143,139,135,131,124,116,110,116,131,133,131,128,131,143,160,173,152,152,149,146,144,141,139,137,135,133,131,130,128,127,126,125,127,130,131,131,128,123,118,118,120,120,119,117,110,100,92,93,102,108,112,118,121,121,123,127,130,131,130,128,126,125,124,123,122,122,121,124,127,127,127,125,124,120,115,112,114,116,118,119,117,113,110,109,108,111,115,118,118,114,110,107,108,111,114,120,125,130,132,134,134,131,126,119,115,118,122,124,127,130,131,131,135,137,139,140,144,145,130,132,134,136,138,141,146,153,158,157,148,139,131,122,116,117,124,134,148,163,170,172,173,175,177,176,176,176,175,170,166,164,162,162,163,163,166,168,170,171,173,177,182,187,189,186,182,178,177,172,164,158,155,152,150,149,149,147,142,139,139,141,140,137,134,132,128,124,118,111,107,106,105,105,103,102,99,94,93,90,85,79,75,70,70,72,77,81,86,90,97,105,113,117,123,132,141,149,155,160,165,169,173,180,187,193,193,195,202,213,225,237,247,254,260,266,273,280,285,307,310,311,311,309,306,302,300,296,292,291,288,284,278,268,254,236,219,204,190,179,173,170,167,165,164,164,162,162,159,162,164,164,163,163,163,164,166,169,171,173,175,176,178,178,176,175,172,169,167,167,168,166,164,163,166,166,165,163,161,159,154,152,153,150,147,146,145,144,142,141,141,140,140,141,143,144,143,141,140,141,143,144,143,143,144,144,145,144,144,143,141,138,135,132,127,123,121,121,122,122,121,121,121,120,121,121,121,122,123,124,125,125,126,127,126,125,123,122,121,119,119,119,119,119,119,120,118,117,121,125,128,130,130,124,121,117,116,116,115,113,108,103,101,104,114,129,145,162,181,195,200,201,205,208,210,208,206,205,208,213,216,218,216,211,210,209,207,207,205,205,203,201,201,199,200,204,208,211,213,211,209,207,204,201,196,193,192,190,189,191,193,192,190,189,188,189,188,184,179,176,173,171,170,170,169,168,167,167,167,167,174,181,184,190,201,211,218,219,223,229,232,234,238,243,251,259,263,266,268,270,268,264,258,252,245,242,239,234,227,222,219,213,204,195,188,183,180,180,181,180,178,174,170,168,165,162,159,155,151,148,145,143,138,132,128,127,128,131,135,136,136,136,135,133,88,83,79,80,79,78,77,74,71,70,70,72,72,71,69,70,75,81,91,102,111,116,119,121,126,132,134,138,140,144,151,155,155,152,173,166,160,156,152,148,142,137,130,123,118,112,108,103,100,96,92,87,83,79,75,72,69,66,64,64,65,63,64,66,67,67,67,66,66,68,70,73,76,79,82,86,88,88,88,88,88,88,89,91,91,90,89,88,87,87,86,84,83,82,82,82,81,80,80,80,78,76,75,77,76,76,76,75,75,75,75,75,75,75,76,76,78,80,83,85,86,86,85,84,83,82,81,80,81,81,81,80,78,76,77,78,79,80,82,82,76,76,75,76,76,77,78,80,82,84,88,94,104,121,147,177,206,227,244,261,277,287,297,305,306,306,308,306,307,308,312,313,313,311,310,305,300,294,289,286,282,277,271,268,264,260,256,250,245,238,231,224,217,208,201,195,190,186,181,176,171,168,164,160,158,156,152,149,143,140,139,141,144,148,156,162,171,185,198,209,218,227,233,234,236,235,229,222,214,206,201,195,190,184,178,172,168,162,159,159,159,152,141,129,117,103,91,81,75,68,61,56,53,59,71,86,98,107,112,111,108,106,105,103,99,95,92,89,86,81,76,72,70,68,68,68,67,66,64,63,65,68,71,74,74,75,75,74,74,74,74,76,77,77,76,74,71,69,68,66,66,68,68,67,63,59,55,53,54,58,64,71,76,79,80,82,83,82,78,72,66,85,84,84,83,81,79,78,79,77,75,74,73,72,71,69,69,70,71,70,68,66,66,66,67]},\"selected\":{\"id\":\"2577\"},\"selection_policy\":{\"id\":\"2576\"}},\"id\":\"2445\",\"type\":\"ColumnDataSource\"},{\"attributes\":{\"mantissas\":[1,2,5],\"max_interval\":500.0,\"num_minor_ticks\":0},\"id\":\"2564\",\"type\":\"AdaptiveTicker\"},{\"attributes\":{},\"id\":\"2417\",\"type\":\"DataRange1d\"},{\"attributes\":{},\"id\":\"2419\",\"type\":\"LinearScale\"},{\"attributes\":{\"days\":[1,2,3,4,5,6,7,8,9,10,11,12,13,14,15,16,17,18,19,20,21,22,23,24,25,26,27,28,29,30,31]},\"id\":\"2567\",\"type\":\"DaysTicker\"},{\"attributes\":{\"months\":[0,2,4,6,8,10]},\"id\":\"2572\",\"type\":\"MonthsTicker\"},{\"attributes\":{\"days\":[1,8,15,22]},\"id\":\"2569\",\"type\":\"DaysTicker\"},{\"attributes\":{\"num_minor_ticks\":5,\"tickers\":[{\"id\":\"2564\"},{\"id\":\"2565\"},{\"id\":\"2566\"},{\"id\":\"2567\"},{\"id\":\"2568\"},{\"id\":\"2569\"},{\"id\":\"2570\"},{\"id\":\"2571\"},{\"id\":\"2572\"},{\"id\":\"2573\"},{\"id\":\"2574\"},{\"id\":\"2575\"}]},\"id\":\"2424\",\"type\":\"DatetimeTicker\"},{\"attributes\":{},\"id\":\"2577\",\"type\":\"Selection\"},{\"attributes\":{},\"id\":\"2558\",\"type\":\"AllLabels\"},{\"attributes\":{},\"id\":\"2421\",\"type\":\"LinearScale\"},{\"attributes\":{},\"id\":\"2576\",\"type\":\"UnionRenderers\"},{\"attributes\":{\"axis\":{\"id\":\"2427\"},\"dimension\":1,\"ticker\":null},\"id\":\"2430\",\"type\":\"Grid\"},{\"attributes\":{},\"id\":\"2434\",\"type\":\"SaveTool\"},{\"attributes\":{\"months\":[0,4,8]},\"id\":\"2573\",\"type\":\"MonthsTicker\"},{\"attributes\":{\"overlay\":{\"id\":\"2437\"}},\"id\":\"2433\",\"type\":\"BoxZoomTool\"},{\"attributes\":{\"bottom_units\":\"screen\",\"fill_alpha\":0.5,\"fill_color\":\"lightgrey\",\"left_units\":\"screen\",\"level\":\"overlay\",\"line_alpha\":1.0,\"line_color\":\"black\",\"line_dash\":[4,4],\"line_width\":2,\"right_units\":\"screen\",\"syncable\":false,\"top_units\":\"screen\"},\"id\":\"2437\",\"type\":\"BoxAnnotation\"},{\"attributes\":{\"base\":60,\"mantissas\":[1,2,5,10,15,20,30],\"max_interval\":1800000.0,\"min_interval\":1000.0,\"num_minor_ticks\":0},\"id\":\"2565\",\"type\":\"AdaptiveTicker\"},{\"attributes\":{\"active_multi\":null,\"tools\":[{\"id\":\"2431\"},{\"id\":\"2432\"},{\"id\":\"2433\"},{\"id\":\"2434\"},{\"id\":\"2435\"},{\"id\":\"2436\"}]},\"id\":\"2438\",\"type\":\"Toolbar\"},{\"attributes\":{},\"id\":\"2561\",\"type\":\"AllLabels\"},{\"attributes\":{},\"id\":\"2431\",\"type\":\"PanTool\"},{\"attributes\":{\"line_alpha\":0.1,\"line_color\":\"#1f77b4\",\"x\":{\"field\":\"x\"},\"y\":{\"field\":\"y\"}},\"id\":\"2447\",\"type\":\"Line\"}],\"root_ids\":[\"2412\"]},\"title\":\"Bokeh Application\",\"version\":\"2.3.2\"}};\n  var render_items = [{\"docid\":\"9b199cb5-b306-4122-949c-d96ddef87b63\",\"root_ids\":[\"2412\"],\"roots\":{\"2412\":\"cb91db5a-0947-4923-8d39-aa6095f314ec\"}}];\n  root.Bokeh.embed.embed_items_notebook(docs_json, render_items);\n\n  }\n  if (root.Bokeh !== undefined) {\n    embed_document(root);\n  } else {\n    var attempts = 0;\n    var timer = setInterval(function(root) {\n      if (root.Bokeh !== undefined) {\n        clearInterval(timer);\n        embed_document(root);\n      } else {\n        attempts++;\n        if (attempts > 100) {\n          clearInterval(timer);\n          console.log(\"Bokeh: ERROR: Unable to run BokehJS code because BokehJS library is missing\");\n        }\n      }\n    }, 10, root)\n  }\n})(window);",
      "application/vnd.bokehjs_exec.v0+json": ""
     },
     "metadata": {
      "application/vnd.bokehjs_exec.v0+json": {
       "id": "2412"
      }
     }
    }
   ],
   "source": [
    "from math import pi\n",
    "from bokeh.sampledata.glucose import data as df\n",
    "from bokeh.models import NumeralTickFormatter\n",
    "\n",
    "week = df.loc['2010-09-01': '2010-09-08']\n",
    "\n",
    "p = figure(\n",
    "    plot_width=400, plot_height=400,\n",
    "    title='Glucose Range',\n",
    "    x_axis_type='datetime'\n",
    ")\n",
    "p.line(week.index, week.glucose)\n",
    "\n",
    "p.xaxis.formatter.days = \"%m/%d/%y\"\n",
    "p.xaxis.major_label_orientation = pi / 3\n",
    "\n",
    "p.yaxis.formatter = NumeralTickFormatter(format=\"0.00\")\n",
    "\n",
    "show(p)"
   ]
  },
  {
   "source": [
    "## Grids\n",
    "\n",
    "It is also possible to control the [styling of Grids](https://bokeh.pydata.org/en/latest/docs/user_guide/styling.html#grids)\n",
    "\n",
    "Grids properties in Bokeh have two possible prefixes:\n",
    "\n",
    "* **grid** properties (which are [line properties](https://bokeh.pydata.org/en/latest/docs/user_guide/styling.html#line-properties)) control the \"grid lines\"\n",
    "* **band** properties (which are [fill properties](https://bokeh.pydata.org/en/latest/docs/user_guide/styling.html#fill-properties)) control shaded bands between grid lines"
   ],
   "cell_type": "markdown",
   "metadata": {}
  },
  {
   "cell_type": "code",
   "execution_count": 32,
   "metadata": {},
   "outputs": [
    {
     "output_type": "display_data",
     "data": {
      "text/html": "\n\n\n\n\n\n  <div class=\"bk-root\" id=\"6f0e17e7-6f5b-4d61-9903-a360dd9062fb\" data-root-id=\"2683\"></div>\n"
     },
     "metadata": {}
    },
    {
     "output_type": "display_data",
     "data": {
      "application/javascript": "(function(root) {\n  function embed_document(root) {\n    \n  var docs_json = {\"e6007134-6f18-41a8-8802-cf66da76f3b9\":{\"defs\":[],\"roots\":{\"references\":[{\"attributes\":{\"below\":[{\"id\":\"2694\"}],\"center\":[{\"id\":\"2697\"},{\"id\":\"2701\"}],\"height\":400,\"left\":[{\"id\":\"2698\"}],\"renderers\":[{\"id\":\"2719\"}],\"title\":{\"id\":\"2684\"},\"toolbar\":{\"id\":\"2709\"},\"width\":400,\"x_range\":{\"id\":\"2686\"},\"x_scale\":{\"id\":\"2690\"},\"y_range\":{\"id\":\"2688\"},\"y_scale\":{\"id\":\"2692\"}},\"id\":\"2683\",\"subtype\":\"Figure\",\"type\":\"Plot\"},{\"attributes\":{},\"id\":\"2847\",\"type\":\"BasicTickFormatter\"},{\"attributes\":{\"formatter\":{\"id\":\"2850\"},\"major_label_policy\":{\"id\":\"2851\"},\"ticker\":{\"id\":\"2695\"}},\"id\":\"2694\",\"type\":\"LinearAxis\"},{\"attributes\":{\"axis\":{\"id\":\"2694\"},\"grid_line_color\":null,\"ticker\":null},\"id\":\"2697\",\"type\":\"Grid\"},{\"attributes\":{},\"id\":\"2848\",\"type\":\"AllLabels\"},{\"attributes\":{},\"id\":\"2850\",\"type\":\"BasicTickFormatter\"},{\"attributes\":{},\"id\":\"2686\",\"type\":\"DataRange1d\"},{\"attributes\":{},\"id\":\"2690\",\"type\":\"LinearScale\"},{\"attributes\":{\"active_multi\":null,\"tools\":[{\"id\":\"2702\"},{\"id\":\"2703\"},{\"id\":\"2704\"},{\"id\":\"2705\"},{\"id\":\"2706\"},{\"id\":\"2707\"}]},\"id\":\"2709\",\"type\":\"Toolbar\"},{\"attributes\":{},\"id\":\"2703\",\"type\":\"WheelZoomTool\"},{\"attributes\":{\"data\":{\"x\":[0,1,2,3,4],\"y\":[0,1,2,3,4]},\"selected\":{\"id\":\"2855\"},\"selection_policy\":{\"id\":\"2854\"}},\"id\":\"2716\",\"type\":\"ColumnDataSource\"},{\"attributes\":{},\"id\":\"2699\",\"type\":\"BasicTicker\"},{\"attributes\":{},\"id\":\"2706\",\"type\":\"ResetTool\"},{\"attributes\":{},\"id\":\"2854\",\"type\":\"UnionRenderers\"},{\"attributes\":{\"source\":{\"id\":\"2716\"}},\"id\":\"2720\",\"type\":\"CDSView\"},{\"attributes\":{\"fill_color\":{\"value\":\"cyan\"},\"line_color\":{\"value\":\"cyan\"},\"size\":{\"value\":20},\"x\":{\"field\":\"x\"},\"y\":{\"field\":\"y\"}},\"id\":\"2717\",\"type\":\"Circle\"},{\"attributes\":{\"formatter\":{\"id\":\"2847\"},\"major_label_policy\":{\"id\":\"2848\"},\"ticker\":{\"id\":\"2699\"}},\"id\":\"2698\",\"type\":\"LinearAxis\"},{\"attributes\":{},\"id\":\"2695\",\"type\":\"BasicTicker\"},{\"attributes\":{},\"id\":\"2702\",\"type\":\"PanTool\"},{\"attributes\":{},\"id\":\"2705\",\"type\":\"SaveTool\"},{\"attributes\":{},\"id\":\"2692\",\"type\":\"LinearScale\"},{\"attributes\":{},\"id\":\"2851\",\"type\":\"AllLabels\"},{\"attributes\":{},\"id\":\"2855\",\"type\":\"Selection\"},{\"attributes\":{},\"id\":\"2707\",\"type\":\"HelpTool\"},{\"attributes\":{},\"id\":\"2688\",\"type\":\"DataRange1d\"},{\"attributes\":{\"text\":\"Making Grid\"},\"id\":\"2684\",\"type\":\"Title\"},{\"attributes\":{\"bottom_units\":\"screen\",\"fill_alpha\":0.5,\"fill_color\":\"lightgrey\",\"left_units\":\"screen\",\"level\":\"overlay\",\"line_alpha\":1.0,\"line_color\":\"black\",\"line_dash\":[4,4],\"line_width\":2,\"right_units\":\"screen\",\"syncable\":false,\"top_units\":\"screen\"},\"id\":\"2708\",\"type\":\"BoxAnnotation\"},{\"attributes\":{\"overlay\":{\"id\":\"2708\"}},\"id\":\"2704\",\"type\":\"BoxZoomTool\"},{\"attributes\":{\"data_source\":{\"id\":\"2716\"},\"glyph\":{\"id\":\"2717\"},\"hover_glyph\":null,\"muted_glyph\":null,\"nonselection_glyph\":{\"id\":\"2718\"},\"view\":{\"id\":\"2720\"}},\"id\":\"2719\",\"type\":\"GlyphRenderer\"},{\"attributes\":{\"fill_alpha\":{\"value\":0.1},\"fill_color\":{\"value\":\"cyan\"},\"line_alpha\":{\"value\":0.1},\"line_color\":{\"value\":\"cyan\"},\"size\":{\"value\":20},\"x\":{\"field\":\"x\"},\"y\":{\"field\":\"y\"}},\"id\":\"2718\",\"type\":\"Circle\"},{\"attributes\":{\"axis\":{\"id\":\"2698\"},\"dimension\":1,\"grid_line_alpha\":0.75,\"grid_line_dash\":[7,3],\"ticker\":null},\"id\":\"2701\",\"type\":\"Grid\"}],\"root_ids\":[\"2683\"]},\"title\":\"Bokeh Application\",\"version\":\"2.3.2\"}};\n  var render_items = [{\"docid\":\"e6007134-6f18-41a8-8802-cf66da76f3b9\",\"root_ids\":[\"2683\"],\"roots\":{\"2683\":\"6f0e17e7-6f5b-4d61-9903-a360dd9062fb\"}}];\n  root.Bokeh.embed.embed_items_notebook(docs_json, render_items);\n\n  }\n  if (root.Bokeh !== undefined) {\n    embed_document(root);\n  } else {\n    var attempts = 0;\n    var timer = setInterval(function(root) {\n      if (root.Bokeh !== undefined) {\n        clearInterval(timer);\n        embed_document(root);\n      } else {\n        attempts++;\n        if (attempts > 100) {\n          clearInterval(timer);\n          console.log(\"Bokeh: ERROR: Unable to run BokehJS code because BokehJS library is missing\");\n        }\n      }\n    }, 10, root)\n  }\n})(window);",
      "application/vnd.bokehjs_exec.v0+json": ""
     },
     "metadata": {
      "application/vnd.bokehjs_exec.v0+json": {
       "id": "2683"
      }
     }
    }
   ],
   "source": [
    "p = figure(\n",
    "    plot_width=400, plot_height=400,\n",
    "    title=\"Making Grid\"\n",
    ")\n",
    "\n",
    "x = np.arange(5)\n",
    "y = np.arange(5)\n",
    "\n",
    "p.circle(\n",
    "    x, y,\n",
    "    size=20,\n",
    "    color='cyan'\n",
    ")\n",
    "\n",
    "p.xgrid.grid_line_color = None\n",
    "\n",
    "p.ygrid.grid_line_alpha = 0.75\n",
    "p.ygrid.grid_line_dash = [7, 3]\n",
    "\n",
    "show(p)"
   ]
  },
  {
   "cell_type": "code",
   "execution_count": 33,
   "metadata": {},
   "outputs": [
    {
     "output_type": "display_data",
     "data": {
      "text/html": "\n\n\n\n\n\n  <div class=\"bk-root\" id=\"d8120917-7b02-47f8-a0dc-241112a18781\" data-root-id=\"2906\"></div>\n"
     },
     "metadata": {}
    },
    {
     "output_type": "display_data",
     "data": {
      "application/javascript": "(function(root) {\n  function embed_document(root) {\n    \n  var docs_json = {\"ac01d761-b9e3-43e2-a452-3666f415e8db\":{\"defs\":[],\"roots\":{\"references\":[{\"attributes\":{\"below\":[{\"id\":\"2917\"}],\"center\":[{\"id\":\"2920\"},{\"id\":\"2924\"}],\"height\":400,\"left\":[{\"id\":\"2921\"}],\"renderers\":[{\"id\":\"2942\"}],\"title\":{\"id\":\"2907\"},\"toolbar\":{\"id\":\"2932\"},\"width\":400,\"x_range\":{\"id\":\"2909\"},\"x_scale\":{\"id\":\"2913\"},\"y_range\":{\"id\":\"2911\"},\"y_scale\":{\"id\":\"2915\"}},\"id\":\"2906\",\"subtype\":\"Figure\",\"type\":\"Plot\"},{\"attributes\":{},\"id\":\"2913\",\"type\":\"LinearScale\"},{\"attributes\":{\"axis\":{\"id\":\"2917\"},\"grid_line_color\":null,\"ticker\":null},\"id\":\"2920\",\"type\":\"Grid\"},{\"attributes\":{\"formatter\":{\"id\":\"3083\"},\"major_label_policy\":{\"id\":\"3084\"},\"ticker\":{\"id\":\"2918\"}},\"id\":\"2917\",\"type\":\"LinearAxis\"},{\"attributes\":{},\"id\":\"2922\",\"type\":\"BasicTicker\"},{\"attributes\":{},\"id\":\"3083\",\"type\":\"BasicTickFormatter\"},{\"attributes\":{},\"id\":\"3088\",\"type\":\"Selection\"},{\"attributes\":{},\"id\":\"2928\",\"type\":\"SaveTool\"},{\"attributes\":{},\"id\":\"3080\",\"type\":\"BasicTickFormatter\"},{\"attributes\":{\"overlay\":{\"id\":\"2931\"}},\"id\":\"2927\",\"type\":\"BoxZoomTool\"},{\"attributes\":{\"bottom_units\":\"screen\",\"fill_alpha\":0.5,\"fill_color\":\"lightgrey\",\"left_units\":\"screen\",\"level\":\"overlay\",\"line_alpha\":1.0,\"line_color\":\"black\",\"line_dash\":[4,4],\"line_width\":2,\"right_units\":\"screen\",\"syncable\":false,\"top_units\":\"screen\"},\"id\":\"2931\",\"type\":\"BoxAnnotation\"},{\"attributes\":{},\"id\":\"3081\",\"type\":\"AllLabels\"},{\"attributes\":{},\"id\":\"3087\",\"type\":\"UnionRenderers\"},{\"attributes\":{},\"id\":\"2909\",\"type\":\"DataRange1d\"},{\"attributes\":{},\"id\":\"2911\",\"type\":\"DataRange1d\"},{\"attributes\":{\"formatter\":{\"id\":\"3080\"},\"major_label_policy\":{\"id\":\"3081\"},\"ticker\":{\"id\":\"2922\"}},\"id\":\"2921\",\"type\":\"LinearAxis\"},{\"attributes\":{\"text\":\"Making Band\"},\"id\":\"2907\",\"type\":\"Title\"},{\"attributes\":{},\"id\":\"2926\",\"type\":\"WheelZoomTool\"},{\"attributes\":{\"fill_color\":{\"value\":\"cyan\"},\"line_color\":{\"value\":\"cyan\"},\"size\":{\"value\":20},\"x\":{\"field\":\"x\"},\"y\":{\"field\":\"y\"}},\"id\":\"2940\",\"type\":\"Circle\"},{\"attributes\":{\"fill_alpha\":{\"value\":0.1},\"fill_color\":{\"value\":\"cyan\"},\"line_alpha\":{\"value\":0.1},\"line_color\":{\"value\":\"cyan\"},\"size\":{\"value\":20},\"x\":{\"field\":\"x\"},\"y\":{\"field\":\"y\"}},\"id\":\"2941\",\"type\":\"Circle\"},{\"attributes\":{\"data\":{\"x\":[0,1,2,3,4],\"y\":[0,1,2,3,4]},\"selected\":{\"id\":\"3088\"},\"selection_policy\":{\"id\":\"3087\"}},\"id\":\"2939\",\"type\":\"ColumnDataSource\"},{\"attributes\":{\"active_multi\":null,\"tools\":[{\"id\":\"2925\"},{\"id\":\"2926\"},{\"id\":\"2927\"},{\"id\":\"2928\"},{\"id\":\"2929\"},{\"id\":\"2930\"}]},\"id\":\"2932\",\"type\":\"Toolbar\"},{\"attributes\":{},\"id\":\"2915\",\"type\":\"LinearScale\"},{\"attributes\":{},\"id\":\"2925\",\"type\":\"PanTool\"},{\"attributes\":{},\"id\":\"3084\",\"type\":\"AllLabels\"},{\"attributes\":{},\"id\":\"2918\",\"type\":\"BasicTicker\"},{\"attributes\":{\"data_source\":{\"id\":\"2939\"},\"glyph\":{\"id\":\"2940\"},\"hover_glyph\":null,\"muted_glyph\":null,\"nonselection_glyph\":{\"id\":\"2941\"},\"view\":{\"id\":\"2943\"}},\"id\":\"2942\",\"type\":\"GlyphRenderer\"},{\"attributes\":{\"axis\":{\"id\":\"2921\"},\"band_fill_alpha\":0.1,\"band_fill_color\":\"cyan\",\"dimension\":1,\"ticker\":null},\"id\":\"2924\",\"type\":\"Grid\"},{\"attributes\":{\"source\":{\"id\":\"2939\"}},\"id\":\"2943\",\"type\":\"CDSView\"},{\"attributes\":{},\"id\":\"2929\",\"type\":\"ResetTool\"},{\"attributes\":{},\"id\":\"2930\",\"type\":\"HelpTool\"}],\"root_ids\":[\"2906\"]},\"title\":\"Bokeh Application\",\"version\":\"2.3.2\"}};\n  var render_items = [{\"docid\":\"ac01d761-b9e3-43e2-a452-3666f415e8db\",\"root_ids\":[\"2906\"],\"roots\":{\"2906\":\"d8120917-7b02-47f8-a0dc-241112a18781\"}}];\n  root.Bokeh.embed.embed_items_notebook(docs_json, render_items);\n\n  }\n  if (root.Bokeh !== undefined) {\n    embed_document(root);\n  } else {\n    var attempts = 0;\n    var timer = setInterval(function(root) {\n      if (root.Bokeh !== undefined) {\n        clearInterval(timer);\n        embed_document(root);\n      } else {\n        attempts++;\n        if (attempts > 100) {\n          clearInterval(timer);\n          console.log(\"Bokeh: ERROR: Unable to run BokehJS code because BokehJS library is missing\");\n        }\n      }\n    }, 10, root)\n  }\n})(window);",
      "application/vnd.bokehjs_exec.v0+json": ""
     },
     "metadata": {
      "application/vnd.bokehjs_exec.v0+json": {
       "id": "2906"
      }
     }
    }
   ],
   "source": [
    "p = figure(\n",
    "    plot_width=400, plot_height=400,\n",
    "    title=\"Making Band\"\n",
    ")\n",
    "\n",
    "x = np.arange(5)\n",
    "y = np.arange(5)\n",
    "\n",
    "p.circle(\n",
    "    x, y,\n",
    "    size=20,\n",
    "    color='cyan'\n",
    ")\n",
    "\n",
    "p.xgrid.grid_line_color = None\n",
    "\n",
    "p.ygrid.band_fill_alpha = 0.1\n",
    "p.ygrid.band_fill_color = 'cyan'\n",
    "\n",
    "show(p)"
   ]
  },
  {
   "source": [
    "## Data Sources and Transformations"
   ],
   "cell_type": "markdown",
   "metadata": {}
  },
  {
   "source": [
    "The `ColumnDataSource` can be imported from `bokeh.models`:"
   ],
   "cell_type": "markdown",
   "metadata": {}
  },
  {
   "cell_type": "code",
   "execution_count": 34,
   "metadata": {},
   "outputs": [],
   "source": [
    "from bokeh.models import ColumnDataSource"
   ]
  },
  {
   "cell_type": "code",
   "execution_count": 45,
   "metadata": {},
   "outputs": [
    {
     "output_type": "display_data",
     "data": {
      "text/html": "\n\n\n\n\n\n  <div class=\"bk-root\" id=\"c0028364-61d1-44be-a257-6e7b7f7b08aa\" data-root-id=\"3400\"></div>\n"
     },
     "metadata": {}
    },
    {
     "output_type": "display_data",
     "data": {
      "application/javascript": "(function(root) {\n  function embed_document(root) {\n    \n  var docs_json = {\"86bd893f-3822-4e4d-9e85-82be7928143c\":{\"defs\":[],\"roots\":{\"references\":[{\"attributes\":{\"below\":[{\"id\":\"3409\"}],\"center\":[{\"id\":\"3412\"},{\"id\":\"3416\"}],\"height\":400,\"left\":[{\"id\":\"3413\"}],\"renderers\":[{\"id\":\"3434\"}],\"title\":{\"id\":\"3593\"},\"toolbar\":{\"id\":\"3424\"},\"width\":400,\"x_range\":{\"id\":\"3401\"},\"x_scale\":{\"id\":\"3405\"},\"y_range\":{\"id\":\"3403\"},\"y_scale\":{\"id\":\"3407\"}},\"id\":\"3400\",\"subtype\":\"Figure\",\"type\":\"Plot\"},{\"attributes\":{},\"id\":\"3418\",\"type\":\"WheelZoomTool\"},{\"attributes\":{\"data\":{\"x\":[1,2,3,4,5],\"y\":{\"__ndarray__\":\"AAAAAAAAAEAAAAAAAAAQQAAAAAAAABhAAAAAAAAAIEAAAAAAAAAkQA==\",\"dtype\":\"float64\",\"order\":\"little\",\"shape\":[5]}},\"selected\":{\"id\":\"3602\"},\"selection_policy\":{\"id\":\"3601\"}},\"id\":\"3399\",\"type\":\"ColumnDataSource\"},{\"attributes\":{\"source\":{\"id\":\"3399\"}},\"id\":\"3435\",\"type\":\"CDSView\"},{\"attributes\":{\"axis\":{\"id\":\"3413\"},\"dimension\":1,\"ticker\":null},\"id\":\"3416\",\"type\":\"Grid\"},{\"attributes\":{},\"id\":\"3417\",\"type\":\"PanTool\"},{\"attributes\":{},\"id\":\"3410\",\"type\":\"BasicTicker\"},{\"attributes\":{\"overlay\":{\"id\":\"3423\"}},\"id\":\"3419\",\"type\":\"BoxZoomTool\"},{\"attributes\":{},\"id\":\"3422\",\"type\":\"HelpTool\"},{\"attributes\":{\"data_source\":{\"id\":\"3399\"},\"glyph\":{\"id\":\"3432\"},\"hover_glyph\":null,\"muted_glyph\":null,\"nonselection_glyph\":{\"id\":\"3433\"},\"view\":{\"id\":\"3435\"}},\"id\":\"3434\",\"type\":\"GlyphRenderer\"},{\"attributes\":{},\"id\":\"3601\",\"type\":\"UnionRenderers\"},{\"attributes\":{},\"id\":\"3420\",\"type\":\"SaveTool\"},{\"attributes\":{},\"id\":\"3405\",\"type\":\"LinearScale\"},{\"attributes\":{},\"id\":\"3598\",\"type\":\"AllLabels\"},{\"attributes\":{\"bottom_units\":\"screen\",\"fill_alpha\":0.5,\"fill_color\":\"lightgrey\",\"left_units\":\"screen\",\"level\":\"overlay\",\"line_alpha\":1.0,\"line_color\":\"black\",\"line_dash\":[4,4],\"line_width\":2,\"right_units\":\"screen\",\"syncable\":false,\"top_units\":\"screen\"},\"id\":\"3423\",\"type\":\"BoxAnnotation\"},{\"attributes\":{},\"id\":\"3403\",\"type\":\"DataRange1d\"},{\"attributes\":{\"fill_color\":{\"value\":\"#1f77b4\"},\"line_color\":{\"value\":\"#1f77b4\"},\"size\":{\"value\":24},\"x\":{\"field\":\"x\"},\"y\":{\"field\":\"y\"}},\"id\":\"3432\",\"type\":\"Circle\"},{\"attributes\":{\"axis_label\":\"X\",\"formatter\":{\"id\":\"3597\"},\"major_label_policy\":{\"id\":\"3598\"},\"ticker\":{\"id\":\"3410\"}},\"id\":\"3409\",\"type\":\"LinearAxis\"},{\"attributes\":{\"fill_alpha\":{\"value\":0.1},\"fill_color\":{\"value\":\"#1f77b4\"},\"line_alpha\":{\"value\":0.1},\"line_color\":{\"value\":\"#1f77b4\"},\"size\":{\"value\":24},\"x\":{\"field\":\"x\"},\"y\":{\"field\":\"y\"}},\"id\":\"3433\",\"type\":\"Circle\"},{\"attributes\":{},\"id\":\"3602\",\"type\":\"Selection\"},{\"attributes\":{},\"id\":\"3597\",\"type\":\"BasicTickFormatter\"},{\"attributes\":{\"active_multi\":null,\"tools\":[{\"id\":\"3417\"},{\"id\":\"3418\"},{\"id\":\"3419\"},{\"id\":\"3420\"},{\"id\":\"3421\"},{\"id\":\"3422\"}]},\"id\":\"3424\",\"type\":\"Toolbar\"},{\"attributes\":{},\"id\":\"3421\",\"type\":\"ResetTool\"},{\"attributes\":{},\"id\":\"3414\",\"type\":\"BasicTicker\"},{\"attributes\":{},\"id\":\"3407\",\"type\":\"LinearScale\"},{\"attributes\":{},\"id\":\"3593\",\"type\":\"Title\"},{\"attributes\":{},\"id\":\"3595\",\"type\":\"AllLabels\"},{\"attributes\":{},\"id\":\"3401\",\"type\":\"DataRange1d\"},{\"attributes\":{\"formatter\":{\"id\":\"3594\"},\"major_label_policy\":{\"id\":\"3595\"},\"ticker\":{\"id\":\"3414\"}},\"id\":\"3413\",\"type\":\"LinearAxis\"},{\"attributes\":{\"axis\":{\"id\":\"3409\"},\"ticker\":null},\"id\":\"3412\",\"type\":\"Grid\"},{\"attributes\":{},\"id\":\"3594\",\"type\":\"BasicTickFormatter\"}],\"root_ids\":[\"3400\"]},\"title\":\"Bokeh Application\",\"version\":\"2.3.2\"}};\n  var render_items = [{\"docid\":\"86bd893f-3822-4e4d-9e85-82be7928143c\",\"root_ids\":[\"3400\"],\"roots\":{\"3400\":\"c0028364-61d1-44be-a257-6e7b7f7b08aa\"}}];\n  root.Bokeh.embed.embed_items_notebook(docs_json, render_items);\n\n  }\n  if (root.Bokeh !== undefined) {\n    embed_document(root);\n  } else {\n    var attempts = 0;\n    var timer = setInterval(function(root) {\n      if (root.Bokeh !== undefined) {\n        clearInterval(timer);\n        embed_document(root);\n      } else {\n        attempts++;\n        if (attempts > 100) {\n          clearInterval(timer);\n          console.log(\"Bokeh: ERROR: Unable to run BokehJS code because BokehJS library is missing\");\n        }\n      }\n    }, 10, root)\n  }\n})(window);",
      "application/vnd.bokehjs_exec.v0+json": ""
     },
     "metadata": {
      "application/vnd.bokehjs_exec.v0+json": {
       "id": "3400"
      }
     }
    }
   ],
   "source": [
    "source = ColumnDataSource(data={\n",
    "    'x' : np.arange(1, 6),\n",
    "    'y' : np.linspace(2, 10, 5)\n",
    "})\n",
    "\n",
    "p = figure(plot_width=400, plot_height=400)\n",
    "p.circle('x', 'y', size=24, source=source)\n",
    "p.xaxis.axis_label = 'X'\n",
    "show(p)"
   ]
  },
  {
   "source": [
    "### Creating with Pandas DataFrame"
   ],
   "cell_type": "markdown",
   "metadata": {}
  },
  {
   "cell_type": "code",
   "execution_count": null,
   "metadata": {},
   "outputs": [],
   "source": [
    "from bokeh.sampledata.iris import flowers as df\n",
    "source = ColumnDataSource(df)\n",
    "\n",
    "p = figure(plot_width=400, plot_height=400)\n",
    "\n",
    "p.circle()\n"
   ]
  }
 ]
}